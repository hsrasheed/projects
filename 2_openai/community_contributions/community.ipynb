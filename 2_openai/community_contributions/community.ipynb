{
 "cells": [
  {
   "cell_type": "markdown",
   "metadata": {},
   "source": [
    "# Community contributions\n",
    "\n",
    "Thank you for considering contributing your work to the repo!\n",
    "\n",
    "Please add your code (modules or notebooks) to this directory and send me a PR, per the instructions in the guides.\n",
    "\n",
    "I'd love to share your progress with other students, so everyone can benefit from your projects.\n"
   ]
  },
  {
   "cell_type": "markdown",
   "metadata": {},
   "source": []
  }
 ],
 "metadata": {
  "language_info": {
   "name": "python"
  }
 },
 "nbformat": 4,
 "nbformat_minor": 2
}
