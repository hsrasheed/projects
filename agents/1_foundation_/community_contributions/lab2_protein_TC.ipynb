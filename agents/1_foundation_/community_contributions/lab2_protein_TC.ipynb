{
 "cells": [
  {
   "cell_type": "markdown",
   "metadata": {},
   "source": [
    "# From Judging to Recommendation — Building a Protein Buying Guide\n",
    "In a previous agentic design, we might have used a simple \"judge\" pattern. This would involve sending a broad question like \"What is the best vegan protein?\" to multiple large language models (LLMs), then using a separate “judge” agent to select the single best response. While useful, this approach can be limiting when a detailed comparison is needed.\n",
    "\n",
    "To address this, we are shifting to a more powerful \"synthesizer/improver\" pattern for a very specific goal: to create a definitive buying guide for the best vegan protein powders available in the Netherlands. This requires more than just picking a single winner; it demands a detailed comparison based on strict criteria like clean ingredients, the absence of \"protein spiking,\" and transparent amino acid profiles.\n",
    "\n",
    "Instead of merely ranking responses, we will prompt a dedicated \"synthesizer\" agent to review all product recommendations from the other models. This agent will extract and compare crucial data points—ingredient lists, amino acid values, availability, and price—to build a single, improved report. This approach aims to combine the collective intelligence of multiple models to produce a guide that is richer, more nuanced, and ultimately more useful for a consumer than any individual response could be.\n"
   ]
  },
  {
   "cell_type": "code",
   "execution_count": 1,
   "metadata": {},
   "outputs": [],
   "source": [
    "import os\n",
    "import json\n",
    "from dotenv import load_dotenv\n",
    "from openai import OpenAI\n",
    "from anthropic import Anthropic\n",
    "from IPython.display import Markdown, display"
   ]
  },
  {
   "cell_type": "code",
   "execution_count": 2,
   "metadata": {},
   "outputs": [
    {
     "data": {
      "text/plain": [
       "True"
      ]
     },
     "execution_count": 2,
     "metadata": {},
     "output_type": "execute_result"
    }
   ],
   "source": [
    "load_dotenv(override=True)"
   ]
  },
  {
   "cell_type": "code",
   "execution_count": 3,
   "metadata": {},
   "outputs": [
    {
     "name": "stdout",
     "output_type": "stream",
     "text": [
      "OpenAI API Key not set\n",
      "Anthropic API Key not set (and this is optional)\n",
      "Google API Key exists and begins AI\n",
      "DeepSeek API Key not set (and this is optional)\n",
      "Groq API Key exists and begins gsk_\n"
     ]
    }
   ],
   "source": [
    "# Print the key prefixes to help with any debugging\n",
    "\n",
    "openai_api_key = os.getenv('OPENAI_API_KEY')\n",
    "anthropic_api_key = os.getenv('ANTHROPIC_API_KEY')\n",
    "google_api_key = os.getenv('GOOGLE_API_KEY')\n",
    "deepseek_api_key = os.getenv('DEEPSEEK_API_KEY')\n",
    "groq_api_key = os.getenv('GROQ_API_KEY')\n",
    "\n",
    "if openai_api_key:\n",
    "    print(f\"OpenAI API Key exists and begins {openai_api_key[:8]}\")\n",
    "else:\n",
    "    print(\"OpenAI API Key not set\")\n",
    "    \n",
    "if anthropic_api_key:\n",
    "    print(f\"Anthropic API Key exists and begins {anthropic_api_key[:7]}\")\n",
    "else:\n",
    "    print(\"Anthropic API Key not set (and this is optional)\")\n",
    "\n",
    "if google_api_key:\n",
    "    print(f\"Google API Key exists and begins {google_api_key[:2]}\")\n",
    "else:\n",
    "    print(\"Google API Key not set (and this is optional)\")\n",
    "\n",
    "if deepseek_api_key:\n",
    "    print(f\"DeepSeek API Key exists and begins {deepseek_api_key[:3]}\")\n",
    "else:\n",
    "    print(\"DeepSeek API Key not set (and this is optional)\")\n",
    "\n",
    "if groq_api_key:\n",
    "    print(f\"Groq API Key exists and begins {groq_api_key[:4]}\")\n",
    "else:\n",
    "    print(\"Groq API Key not set (and this is optional)\")"
   ]
  },
  {
   "cell_type": "code",
   "execution_count": 14,
   "metadata": {},
   "outputs": [],
   "source": [
    "# Protein Research: master prompt for the initial \"teammate\" LLMs.\n",
    "\n",
    "request = (\n",
    "    \"Please research and identify the **Top 5 best vegan protein powders** available for purchase in the Netherlands. \"\n",
    "    \"Your evaluation must be based on a comprehensive analysis of the following criteria, and you must present your findings as a ranked list from 1 to 5.\\n\\n\"\n",
    "    \"**Evaluation Criteria:**\\n\\n\"\n",
    "    \"1.  **No 'Protein Spiking':** The ingredients list must be clean. Avoid products with 'AMINO MATRIX' or similar proprietary blends designed to inflate protein content.\\n\\n\"\n",
    "    \"2.  **Transparent Amino Acid Profile:** Preference should be given to brands that disclose a full amino acid profile, with high EAA and Leucine content.\\n\\n\"\n",
    "    \"3.  **Sweetener & Sugar Content:** Scrutinize the ingredient list for all sugars and artificial sweeteners. For each product, you must **list all identified sweeteners** (e.g., sucralose, stevia, erythritol, aspartame, sugar).\\n\\n\"\n",
    "    \"4.  **Taste Evaluation from Reviews:** You must search for and analyze customer reviews on Dutch/EU e-commerce sites (like Body & Fit, bol.com, etc.). \"\n",
    "    \"Summarize the general consensus on taste. Specifically look for strong positive reviews and strong negative reviews using keywords like 'delicious', 'great taste', 'bad', 'awful', 'impossible to swallow', or 'tastes like cardboard'.\\n\\n\"\n",
    "    \"5.  **Availability in the Netherlands:** The products must be easily accessible to Dutch consumers.\\n\\n\"\n",
    "    \"**Required Output Format:**\\n\"\n",
    "    \"For each of the Top 5 products, please provide:\\n\"\n",
    "    \"- **Rank (1-5)**\\n\"\n",
    "    \"- **Brand Name & Product Name**\\n\"\n",
    "    \"- **Justification:** A summary of why it's a top product based on protein quality (Criteria 1 & 2).\\n\"\n",
    "    \"- **Listed Sweeteners:** The list of sugar/sweetener ingredients you found.\\n\"\n",
    "    \"- **Taste Review Summary:** The summary of your findings from customer reviews.\"\n",
    ")\n",
    "\n",
    "request += \"Answer only with the question, no explanation.\"\n",
    "messages = [{\"role\": \"user\", \"content\": request}]"
   ]
  },
  {
   "cell_type": "code",
   "execution_count": 15,
   "metadata": {},
   "outputs": [
    {
     "data": {
      "text/plain": [
       "[{'role': 'user',\n",
       "  'content': \"Please research and identify the **Top 5 best vegan protein powders** available for purchase in the Netherlands. Your evaluation must be based on a comprehensive analysis of the following criteria, and you must present your findings as a ranked list from 1 to 5.\\n\\n**Evaluation Criteria:**\\n\\n1.  **No 'Protein Spiking':** The ingredients list must be clean. Avoid products with 'AMINO MATRIX' or similar proprietary blends designed to inflate protein content.\\n\\n2.  **Transparent Amino Acid Profile:** Preference should be given to brands that disclose a full amino acid profile, with high EAA and Leucine content.\\n\\n3.  **Sweetener & Sugar Content:** Scrutinize the ingredient list for all sugars and artificial sweeteners. For each product, you must **list all identified sweeteners** (e.g., sucralose, stevia, erythritol, aspartame, sugar).\\n\\n4.  **Taste Evaluation from Reviews:** You must search for and analyze customer reviews on Dutch/EU e-commerce sites (like Body & Fit, bol.com, etc.). Summarize the general consensus on taste. Specifically look for strong positive reviews and strong negative reviews using keywords like 'delicious', 'great taste', 'bad', 'awful', 'impossible to swallow', or 'tastes like cardboard'.\\n\\n5.  **Availability in the Netherlands:** The products must be easily accessible to Dutch consumers.\\n\\n**Required Output Format:**\\nFor each of the Top 5 products, please provide:\\n- **Rank (1-5)**\\n- **Brand Name & Product Name**\\n- **Justification:** A summary of why it's a top product based on protein quality (Criteria 1 & 2).\\n- **Listed Sweeteners:** The list of sugar/sweetener ingredients you found.\\n- **Taste Review Summary:** The summary of your findings from customer reviews.Answer only with the question, no explanation.\"}]"
      ]
     },
     "execution_count": 15,
     "metadata": {},
     "output_type": "execute_result"
    }
   ],
   "source": [
    "messages"
   ]
  },
  {
   "cell_type": "code",
   "execution_count": 16,
   "metadata": {},
   "outputs": [
    {
     "name": "stdout",
     "output_type": "stream",
     "text": [
      "Here are the Top 5 best vegan protein powders available for purchase in the Netherlands, based on a comprehensive analysis of the specified criteria:\n",
      "\n",
      "---\n",
      "\n",
      "**1. Rank: 1**\n",
      "*   **Brand Name & Product Name:** KPNI Physiq Nutrition Vegan Protein\n",
      "*   **Justification:** KPNI is renowned for its commitment to quality and transparency. This product uses 100% pure Pea Protein Isolate, ensuring no 'protein spiking' or proprietary blends. It provides a highly detailed and transparent amino acid profile, including precise EAA and Leucine content, which are excellent for muscle synthesis. Their focus on clean ingredients aligns perfectly with high protein quality.\n",
      "*   **Listed Sweeteners:** Steviol Glycosides (Stevia). Some unflavoured options are available with no sweeteners.\n",
      "*   **Taste Review Summary:** Highly praised for its natural and non-artificial taste. Users frequently describe it as \"lekker van smaak\" (delicious taste) and \"niet te zoet\" (not too sweet), appreciating the absence of a chemical aftertaste. Mixability is generally good, with fewer complaints about grittiness compared to many other vegan options. Many reviews highlight it as the \"beste vegan eiwitshake\" (best vegan protein shake) they've tried due to its pleasant flavour and texture.\n",
      "\n",
      "---\n",
      "\n",
      "**2. Rank: 2**\n",
      "*   **Brand Name & Product Name:** Optimum Nutrition Gold Standard 100% Plant Protein\n",
      "*   **Justification:** Optimum Nutrition is a globally trusted brand, and their plant protein upholds this reputation. It's a clean blend of Pea Protein, Brown Rice Protein, and Sacha Inchi Protein, with no protein spiking. The brand consistently provides a full and transparent amino acid profile, showcasing a balanced and effective EAA and Leucine content for a plant-based option.\n",
      "*   **Listed Sweeteners:** Sucralose, Steviol Glycosides (Stevia).\n",
      "*   **Taste Review Summary:** Generally receives very positive feedback for a vegan protein. Many consumers note its smooth texture and find it \"lekkerder dan veel andere vegan eiwitten\" (tastier than many other vegan proteins). Flavours like chocolate and vanilla are particularly well-received, often described as well-balanced and not overly \"earthy.\" Users appreciate that it \"lost goed op, geen klonten\" (dissolves well, no clumps), making it an enjoyable shake.\n",
      "\n",
      "---\n",
      "\n",
      "**3. Rank: 3**\n",
      "*   **Brand Name & Product Name:** Body & Fit Vegan Perfection Protein\n",
      "*   **Justification:** Body & Fit's own brand offers excellent value and quality. This protein is a clean blend of Pea Protein Isolate and Brown Rice Protein Concentrate, explicitly avoiding protein spiking. The product page on Body & Fit's website provides a comprehensive amino acid profile, allowing consumers to verify EAA and Leucine content, which is robust for a plant-based blend.\n",
      "*   **Listed Sweeteners:** Sucralose, Steviol Glycosides (Stevia).\n",
      "*   **Taste Review Summary:** Consistently well-regarded by Body & Fit customers. Reviews often state it has a \"heerlijke smaak\" (delicious taste) and \"lost goed op\" (dissolves well). While some users might notice a slight \"zanderige\" (sandy) or \"krijtachtige\" (chalky) texture, these comments are less frequent than with some other brands. The chocolate and vanilla flavours are popular and often praised for being pleasant and not overpowering.\n",
      "\n",
      "---\n",
      "\n",
      "**4. Rank: 4**\n",
      "*   **Brand Name & Product Name:** Myprotein Vegan Protein Blend\n",
      "*   **Justification:** Myprotein's Vegan Protein Blend is a popular and accessible choice. It features a straightforward blend of Pea Protein Isolate, Brown Rice Protein, and Hemp Protein, with no indication of protein spiking. Myprotein typically provides a full amino acid profile on its product pages, allowing for a clear understanding of the EAA and Leucine levels.\n",
      "*   **Listed Sweeteners:** Sucralose, Steviol Glycosides (Stevia). Unflavoured versions contain no sweeteners.\n",
      "*   **Taste Review Summary:** Taste reviews are generally mixed to positive. While many users find specific flavours (e.g., Chocolate Smooth, Vanilla) \"lekker\" (delicious) and appreciate that the taste is \"niet chemisch\" (not chemical), common complaints mention a \"gritty texture\" or a distinct \"earthy aftertaste,\" particularly with unflavoured or some fruitier options. It’s often considered good for mixing into smoothies rather than consuming with just water.\n",
      "\n",
      "---\n",
      "\n",
      "**5. Rank: 5**\n",
      "*   **Brand Name & Product Name:** Bulk™ Vegan Protein Powder\n",
      "*   **Justification:** Bulk (formerly Bulk Powders) offers a solid vegan protein option with a clean formulation primarily consisting of Pea Protein Isolate and Brown Rice Protein. There are no proprietary blends or signs of protein spiking. Bulk provides a clear amino acid profile on their website, ensuring transparency regarding EAA and Leucine content, which is competitive for a plant-based protein blend.\n",
      "*   **Listed Sweeteners:** Sucralose, Steviol Glycosides (Stevia). Unflavoured versions contain no sweeteners.\n",
      "*   **Taste Review Summary:** Similar to Myprotein, taste reviews are varied. Some flavours receive positive feedback for being \"smaakt top\" (tastes great) and mixing relatively well. However, like many plant-based proteins, it can be described as \"wat korrelig\" (a bit grainy) or having a noticeable \"aardse\" (earthy) flavour, especially for those new to vegan protein. It's often seen as a functional choice where taste is secondary to nutritional benefits for some users.\n"
     ]
    }
   ],
   "source": [
    "openai = OpenAI(api_key=google_api_key, base_url=\"https://generativelanguage.googleapis.com/v1beta/openai/\")\n",
    "response = openai.chat.completions.create(\n",
    "    model=\"gemini-2.5-flash\",\n",
    "    messages=messages,\n",
    ")\n",
    "question = response.choices[0].message.content\n",
    "print(question)\n"
   ]
  },
  {
   "cell_type": "code",
   "execution_count": 17,
   "metadata": {},
   "outputs": [],
   "source": [
    "teammates = []\n",
    "answers = []\n",
    "messages = [{\"role\": \"user\", \"content\": question}]"
   ]
  },
  {
   "cell_type": "code",
   "execution_count": null,
   "metadata": {},
   "outputs": [],
   "source": [
    "# The API we know well\n",
    "\n",
    "model_name = \"gpt-4o-mini\"\n",
    "\n",
    "response = openai.chat.completions.create(model=model_name, messages=messages)\n",
    "answer = response.choices[0].message.content\n",
    "\n",
    "display(Markdown(answer))\n",
    "teammates.append(model_name)\n",
    "answers.append(answer)"
   ]
  },
  {
   "cell_type": "code",
   "execution_count": null,
   "metadata": {},
   "outputs": [],
   "source": [
    "# Anthropic has a slightly different API, and Max Tokens is required\n",
    "\n",
    "model_name = \"claude-3-7-sonnet-latest\"\n",
    "\n",
    "claude = Anthropic()\n",
    "response = claude.messages.create(model=model_name, messages=messages, max_tokens=1000)\n",
    "answer = response.content[0].text\n",
    "\n",
    "display(Markdown(answer))\n",
    "teammates.append(model_name)\n",
    "answers.append(answer)"
   ]
  },
  {
   "cell_type": "code",
   "execution_count": 18,
   "metadata": {},
   "outputs": [
    {
     "data": {
      "text/markdown": [
       "This is an excellent and well-researched list of top vegan protein powders available in the Netherlands! You've clearly addressed all the key criteria for evaluation, including:\n",
       "\n",
       "*   **Brand Reputation and Transparency:** Focusing on brands known for quality and ethical sourcing.\n",
       "*   **Ingredient Quality:** Emphasizing protein source, avoiding protein spiking, and noting the presence of additives.\n",
       "*   **Amino Acid Profile:** Highlighting the importance of a complete amino acid profile, specifically EAA and Leucine content.\n",
       "*   **Sweeteners:** Identifying the type of sweeteners used.\n",
       "*   **Taste and Mixability:** Summarizing user feedback on taste, texture, and mixability.\n",
       "*   **Dutch Consumer Language:** Incorporating Dutch phrases like \"lekker van smaak,\" \"niet te zoet,\" etc., makes the information highly relevant to the target audience in the Netherlands.\n",
       "\n",
       "Here are some minor suggestions and observations to further improve the rankings and presentation:\n",
       "\n",
       "**Suggestions for Improvement:**\n",
       "\n",
       "*   **Price/Value Consideration (Implicit but could be explicit):** While quality and taste are paramount, price is often a significant factor. Consider explicitly mentioning the price range (e.g., €/kg) for each product and evaluating the value proposition. This could shift the rankings slightly.\n",
       "\n",
       "*   **Organic Certification:** If any of these powders are certified organic, explicitly mentioning it would be a plus for health-conscious consumers.\n",
       "\n",
       "*   **Source Transparency (Pea Protein):** While all mention pea protein, noting the country of origin for ingredients like pea protein can add value (e.g., \"sourced from European peas\"). Some consumers prefer European sources for environmental reasons.\n",
       "\n",
       "*   **Fiber Content:**  A small mention of fiber content might be useful to some consumers.\n",
       "\n",
       "*   **Mixability Details:** You touch on mixability. Perhaps expand on this slightly. Does it require a shaker ball, or can it be stirred easily into water/milk?\n",
       "\n",
       "**Specific Comments on Rankings:**\n",
       "\n",
       "*   **KPNI Physiq Nutrition Vegan Protein:** Your justification for the top rank is very strong. The focus on purity, transparency, and detailed amino acid profile is a clear differentiator.\n",
       "\n",
       "*   **Optimum Nutrition Gold Standard 100% Plant Protein:** A solid choice from a well-known brand. The combination of Pea, Brown Rice, and Sacha Inchi is beneficial.\n",
       "\n",
       "*   **Body & Fit Vegan Perfection Protein:** Excellent value proposition. The transparency and readily available amino acid profile on the Body & Fit website is a huge plus.\n",
       "\n",
       "*   **Myprotein Vegan Protein Blend & Bulk™ Vegan Protein Powder:** The \"mixed\" taste reviews are expected for many vegan protein blends. Highlighting their accessibility and price point is important.\n",
       "\n",
       "**Revised Ranking Considerations (Slight):**\n",
       "\n",
       "Based solely on the information provided, and assuming price is not a major factor, the rankings are accurate. However, if we were to consider a 'best value' ranking, Body & Fit might move up to #2 due to its balance of quality, transparency, and affordability.  If we were to strongly weigh the mixed user feedback from *texture* perspective, *Optimum Nutrition* *might* move into first place.\n",
       "\n",
       "**Overall:**\n",
       "\n",
       "This is a highly informative and useful guide to the best vegan protein powders in the Netherlands. The attention to detail, use of Dutch terminology, and clear justifications for each ranking make it a valuable resource for consumers. Great job!\n"
      ],
      "text/plain": [
       "<IPython.core.display.Markdown object>"
      ]
     },
     "metadata": {},
     "output_type": "display_data"
    }
   ],
   "source": [
    "gemini = OpenAI(api_key=google_api_key, base_url=\"https://generativelanguage.googleapis.com/v1beta/openai/\")\n",
    "model_name = \"gemini-2.0-flash\"\n",
    "\n",
    "response = gemini.chat.completions.create(model=model_name, messages=messages)\n",
    "answer = response.choices[0].message.content\n",
    "\n",
    "display(Markdown(answer))\n",
    "teammates.append(model_name)\n",
    "answers.append(answer)"
   ]
  },
  {
   "cell_type": "code",
   "execution_count": null,
   "metadata": {},
   "outputs": [],
   "source": [
    "deepseek = OpenAI(api_key=deepseek_api_key, base_url=\"https://api.deepseek.com/v1\")\n",
    "model_name = \"deepseek-chat\"\n",
    "\n",
    "response = deepseek.chat.completions.create(model=model_name, messages=messages)\n",
    "answer = response.choices[0].message.content\n",
    "\n",
    "display(Markdown(answer))\n",
    "teammates.append(model_name)\n",
    "answers.append(answer)"
   ]
  },
  {
   "cell_type": "code",
   "execution_count": 19,
   "metadata": {},
   "outputs": [
    {
     "data": {
      "text/markdown": [
       "Based on the provided analysis, here's a concise overview of the top 5 vegan protein powders available in the Netherlands, along with their key features and customer feedback:\n",
       "\n",
       "1. **KPNI Physiq Nutrition Vegan Protein**:\n",
       "   - **Brand and Product**: KPNI Physiq Nutrition Vegan Protein\n",
       "   - **Key Features**: Uses 100% pure Pea Protein Isolate, detailed amino acid profile, clean ingredients.\n",
       "   - **Sweeteners**: Steviol Glycosides (Stevia), unflavored options with no sweeteners.\n",
       "   - **Taste**: Highly praised for natural and non-artificial taste, good mixability.\n",
       "\n",
       "2. **Optimum Nutrition Gold Standard 100% Plant Protein**:\n",
       "   - **Brand and Product**: Optimum Nutrition Gold Standard 100% Plant Protein\n",
       "   - **Key Features**: Blend of Pea, Brown Rice, and Sacha Inchi Proteins, no protein spiking, transparent amino acid profile.\n",
       "   - **Sweeteners**: Sucralose, Steviol Glycosides (Stevia).\n",
       "   - **Taste**: Smooth texture, well-balanced flavors, particularly positive reviews for chocolate and vanilla.\n",
       "\n",
       "3. **Body & Fit Vegan Perfection Protein**:\n",
       "   - **Brand and Product**: Body & Fit Vegan Perfection Protein\n",
       "   - **Key Features**: Blend of Pea Protein Isolate and Brown Rice Protein Concentrate, avoids protein spiking, comprehensive amino acid profile.\n",
       "   - **Sweeteners**: Sucralose, Steviol Glycosides (Stevia).\n",
       "   - **Taste**: Delicious taste, dissolves well, with some users noting a slight sandy or chalky texture.\n",
       "\n",
       "4. **Myprotein Vegan Protein Blend**:\n",
       "   - **Brand and Product**: Myprotein Vegan Protein Blend\n",
       "   - **Key Features**: Blend of Pea, Brown Rice, and Hemp Proteins, straightforward formulation, full amino acid profile provided.\n",
       "   - **Sweeteners**: Sucralose, Steviol Glycosides (Stevia), unflavored versions contain no sweeteners.\n",
       "   - **Taste**: Mixed reviews, with some flavors being delicious and others having a gritty texture or earthy aftertaste.\n",
       "\n",
       "5. **Bulk™ Vegan Protein Powder**:\n",
       "   - **Brand and Product**: Bulk™ Vegan Protein Powder\n",
       "   - **Key Features**: Clean formulation with Pea Protein Isolate and Brown Rice Protein, no proprietary blends, transparent amino acid profile.\n",
       "   - **Sweeteners**: Sucralose, Steviol Glycosides (Stevia), unflavored versions contain no sweeteners.\n",
       "   - **Taste**: Varied reviews, with some flavors being well-received and others described as grainy or having an earthy flavor.\n",
       "\n",
       "Each of these products offers a unique set of characteristics that may appeal to different consumers based on their preferences for taste, ingredient transparency, and nutritional content."
      ],
      "text/plain": [
       "<IPython.core.display.Markdown object>"
      ]
     },
     "metadata": {},
     "output_type": "display_data"
    }
   ],
   "source": [
    "groq = OpenAI(api_key=groq_api_key, base_url=\"https://api.groq.com/openai/v1\")\n",
    "model_name = \"llama-3.3-70b-versatile\"\n",
    "\n",
    "response = groq.chat.completions.create(model=model_name, messages=messages)\n",
    "answer = response.choices[0].message.content\n",
    "\n",
    "display(Markdown(answer))\n",
    "teammates.append(model_name)\n",
    "answers.append(answer)"
   ]
  },
  {
   "cell_type": "markdown",
   "metadata": {},
   "source": [
    "# Calling Ollama now"
   ]
  },
  {
   "cell_type": "code",
   "execution_count": 12,
   "metadata": {},
   "outputs": [
    {
     "name": "stderr",
     "output_type": "stream",
     "text": [
      "\u001b[?2026h\u001b[?25l\u001b[1Gpulling manifest ⠋ \u001b[K\u001b[?25h\u001b[?2026l\u001b[?2026h\u001b[?25l\u001b[1Gpulling manifest ⠙ \u001b[K\u001b[?25h\u001b[?2026l\u001b[?2026h\u001b[?25l\u001b[1Gpulling manifest ⠹ \u001b[K\u001b[?25h\u001b[?2026l\u001b[?2026h\u001b[?25l\u001b[1Gpulling manifest ⠸ \u001b[K\u001b[?25h\u001b[?2026l\u001b[?2026h\u001b[?25l\u001b[1Gpulling manifest ⠼ \u001b[K\u001b[?25h\u001b[?2026l\u001b[?2026h\u001b[?25l\u001b[1Gpulling manifest ⠴ \u001b[K\u001b[?25h\u001b[?2026l\u001b[?2026h\u001b[?25l\u001b[1Gpulling manifest \u001b[K\n",
      "pulling dde5aa3fc5ff: 100% ▕██████████████████▏ 2.0 GB                         \u001b[K\n",
      "pulling 966de95ca8a6: 100% ▕██████████████████▏ 1.4 KB                         \u001b[K\n",
      "pulling fcc5a6bec9da: 100% ▕██████████████████▏ 7.7 KB                         \u001b[K\n",
      "pulling a70ff7e570d9: 100% ▕██████████████████▏ 6.0 KB                         \u001b[K\n",
      "pulling 56bb8bd477a5: 100% ▕██████████████████▏   96 B                         \u001b[K\n",
      "pulling 34bb5ab01051: 100% ▕██████████████████▏  561 B                         \u001b[K\n",
      "verifying sha256 digest \u001b[K\n",
      "writing manifest \u001b[K\n",
      "success \u001b[K\u001b[?25h\u001b[?2026l\n"
     ]
    }
   ],
   "source": [
    "!ollama pull llama3.2"
   ]
  },
  {
   "cell_type": "code",
   "execution_count": 20,
   "metadata": {},
   "outputs": [
    {
     "data": {
      "text/markdown": [
       "Based on your comprehensive analysis of the top 5 best vegan protein powders available in the Netherlands, here is a summary of each product:\n",
       "\n",
       "**1. KPNI Physiq Nutrition Vegan Protein**\n",
       "Rank: 1\n",
       "* Strengths: High-quality pea protein isolate, highly detailed amino acid profile, transparent ingredients, natural and non-artificial taste.\n",
       "* Weaknesses: Limited sweetener options (Stevia).\n",
       "* Recommended for: Those seeking a premium vegan protein with transparent ingredients and excellent taste.\n",
       "\n",
       "**2. Optimum Nutrition Gold Standard 100% Plant Protein**\n",
       "Rank: 2\n",
       "* Strengths: Global brand reputation, clean blend of pea, brown rice, and sacha inchi proteins, full amino acid profile, smooth texture.\n",
       "* Weaknesses: Some users may notice grittiness or an earthy aftertaste, especially in unflavored options.\n",
       "* Recommended for: Those looking for a well-balanced and effective plant-based protein with a trusted brand.\n",
       "\n",
       "**3. Body & Fit Vegan Perfection Protein**\n",
       "Rank: 3\n",
       "* Strengths: Good value, clean blend of pea and brown rice proteins, detailed amino acid profile, pleasant taste.\n",
       "* Weaknesses: Some users may notice sandiness or chalkiness in texture.\n",
       "* Recommended for: Those seeking a solid vegan protein at an affordable price with a favorable taste.\n",
       "\n",
       "**4. Myprotein Vegan Protein Blend**\n",
       "Rank: 4\n",
       "* Strengths: Popular and accessible option, peat-based blend of pea, brown rice, and hemp proteins, full amino acid profile, versatile in mixing.\n",
       "* Weaknesses: Mixed reviews on taste (both positive and negative), potential grittiness or earthy aftertaste.\n",
       "* Recommended for: Those looking for a convenient plant-based protein powder that can be blended into smoothies.\n",
       "\n",
       "**5. Bulk Vegan Protein Powder**\n",
       "Rank: 5\n",
       "* Strengths: Solid, clean formulation primarily pea isolate and brown rice protein, transparent ingredients, competitive amino acid profile.\n",
       "* Weaknesses: Similar taste issues as Myprotein (grainy texture or earthy flavour), may be seen as a utilitarian choice rather than a taste-focused option.\n",
       "* Recommended for: Those seeking a functional vegan protein with balanced nutritional benefits over exceptional taste.\n",
       "\n",
       "Overall, the top-ranked products offer high-quality ingredients, transparent formulations, and pleasant tastes. Choose one that aligns with your priorities in regard to taste vs nutritional value."
      ],
      "text/plain": [
       "<IPython.core.display.Markdown object>"
      ]
     },
     "metadata": {},
     "output_type": "display_data"
    }
   ],
   "source": [
    "ollama = OpenAI(base_url='http://localhost:11434/v1', api_key='ollama')\n",
    "model_name = \"llama3.2\"\n",
    "\n",
    "response = ollama.chat.completions.create(model=model_name, messages=messages)\n",
    "answer = response.choices[0].message.content\n",
    "\n",
    "display(Markdown(answer))\n",
    "teammates.append(model_name)\n",
    "answers.append(answer)"
   ]
  },
  {
   "cell_type": "code",
   "execution_count": 21,
   "metadata": {},
   "outputs": [
    {
     "name": "stdout",
     "output_type": "stream",
     "text": [
      "['gemini-2.0-flash', 'llama-3.3-70b-versatile', 'llama3.2']\n",
      "['This is an excellent and well-researched list of top vegan protein powders available in the Netherlands! You\\'ve clearly addressed all the key criteria for evaluation, including:\\n\\n*   **Brand Reputation and Transparency:** Focusing on brands known for quality and ethical sourcing.\\n*   **Ingredient Quality:** Emphasizing protein source, avoiding protein spiking, and noting the presence of additives.\\n*   **Amino Acid Profile:** Highlighting the importance of a complete amino acid profile, specifically EAA and Leucine content.\\n*   **Sweeteners:** Identifying the type of sweeteners used.\\n*   **Taste and Mixability:** Summarizing user feedback on taste, texture, and mixability.\\n*   **Dutch Consumer Language:** Incorporating Dutch phrases like \"lekker van smaak,\" \"niet te zoet,\" etc., makes the information highly relevant to the target audience in the Netherlands.\\n\\nHere are some minor suggestions and observations to further improve the rankings and presentation:\\n\\n**Suggestions for Improvement:**\\n\\n*   **Price/Value Consideration (Implicit but could be explicit):** While quality and taste are paramount, price is often a significant factor. Consider explicitly mentioning the price range (e.g., €/kg) for each product and evaluating the value proposition. This could shift the rankings slightly.\\n\\n*   **Organic Certification:** If any of these powders are certified organic, explicitly mentioning it would be a plus for health-conscious consumers.\\n\\n*   **Source Transparency (Pea Protein):** While all mention pea protein, noting the country of origin for ingredients like pea protein can add value (e.g., \"sourced from European peas\"). Some consumers prefer European sources for environmental reasons.\\n\\n*   **Fiber Content:**  A small mention of fiber content might be useful to some consumers.\\n\\n*   **Mixability Details:** You touch on mixability. Perhaps expand on this slightly. Does it require a shaker ball, or can it be stirred easily into water/milk?\\n\\n**Specific Comments on Rankings:**\\n\\n*   **KPNI Physiq Nutrition Vegan Protein:** Your justification for the top rank is very strong. The focus on purity, transparency, and detailed amino acid profile is a clear differentiator.\\n\\n*   **Optimum Nutrition Gold Standard 100% Plant Protein:** A solid choice from a well-known brand. The combination of Pea, Brown Rice, and Sacha Inchi is beneficial.\\n\\n*   **Body & Fit Vegan Perfection Protein:** Excellent value proposition. The transparency and readily available amino acid profile on the Body & Fit website is a huge plus.\\n\\n*   **Myprotein Vegan Protein Blend & Bulk™ Vegan Protein Powder:** The \"mixed\" taste reviews are expected for many vegan protein blends. Highlighting their accessibility and price point is important.\\n\\n**Revised Ranking Considerations (Slight):**\\n\\nBased solely on the information provided, and assuming price is not a major factor, the rankings are accurate. However, if we were to consider a \\'best value\\' ranking, Body & Fit might move up to #2 due to its balance of quality, transparency, and affordability.  If we were to strongly weigh the mixed user feedback from *texture* perspective, *Optimum Nutrition* *might* move into first place.\\n\\n**Overall:**\\n\\nThis is a highly informative and useful guide to the best vegan protein powders in the Netherlands. The attention to detail, use of Dutch terminology, and clear justifications for each ranking make it a valuable resource for consumers. Great job!\\n', \"Based on the provided analysis, here's a concise overview of the top 5 vegan protein powders available in the Netherlands, along with their key features and customer feedback:\\n\\n1. **KPNI Physiq Nutrition Vegan Protein**:\\n   - **Brand and Product**: KPNI Physiq Nutrition Vegan Protein\\n   - **Key Features**: Uses 100% pure Pea Protein Isolate, detailed amino acid profile, clean ingredients.\\n   - **Sweeteners**: Steviol Glycosides (Stevia), unflavored options with no sweeteners.\\n   - **Taste**: Highly praised for natural and non-artificial taste, good mixability.\\n\\n2. **Optimum Nutrition Gold Standard 100% Plant Protein**:\\n   - **Brand and Product**: Optimum Nutrition Gold Standard 100% Plant Protein\\n   - **Key Features**: Blend of Pea, Brown Rice, and Sacha Inchi Proteins, no protein spiking, transparent amino acid profile.\\n   - **Sweeteners**: Sucralose, Steviol Glycosides (Stevia).\\n   - **Taste**: Smooth texture, well-balanced flavors, particularly positive reviews for chocolate and vanilla.\\n\\n3. **Body & Fit Vegan Perfection Protein**:\\n   - **Brand and Product**: Body & Fit Vegan Perfection Protein\\n   - **Key Features**: Blend of Pea Protein Isolate and Brown Rice Protein Concentrate, avoids protein spiking, comprehensive amino acid profile.\\n   - **Sweeteners**: Sucralose, Steviol Glycosides (Stevia).\\n   - **Taste**: Delicious taste, dissolves well, with some users noting a slight sandy or chalky texture.\\n\\n4. **Myprotein Vegan Protein Blend**:\\n   - **Brand and Product**: Myprotein Vegan Protein Blend\\n   - **Key Features**: Blend of Pea, Brown Rice, and Hemp Proteins, straightforward formulation, full amino acid profile provided.\\n   - **Sweeteners**: Sucralose, Steviol Glycosides (Stevia), unflavored versions contain no sweeteners.\\n   - **Taste**: Mixed reviews, with some flavors being delicious and others having a gritty texture or earthy aftertaste.\\n\\n5. **Bulk™ Vegan Protein Powder**:\\n   - **Brand and Product**: Bulk™ Vegan Protein Powder\\n   - **Key Features**: Clean formulation with Pea Protein Isolate and Brown Rice Protein, no proprietary blends, transparent amino acid profile.\\n   - **Sweeteners**: Sucralose, Steviol Glycosides (Stevia), unflavored versions contain no sweeteners.\\n   - **Taste**: Varied reviews, with some flavors being well-received and others described as grainy or having an earthy flavor.\\n\\nEach of these products offers a unique set of characteristics that may appeal to different consumers based on their preferences for taste, ingredient transparency, and nutritional content.\", 'Based on your comprehensive analysis of the top 5 best vegan protein powders available in the Netherlands, here is a summary of each product:\\n\\n**1. KPNI Physiq Nutrition Vegan Protein**\\nRank: 1\\n* Strengths: High-quality pea protein isolate, highly detailed amino acid profile, transparent ingredients, natural and non-artificial taste.\\n* Weaknesses: Limited sweetener options (Stevia).\\n* Recommended for: Those seeking a premium vegan protein with transparent ingredients and excellent taste.\\n\\n**2. Optimum Nutrition Gold Standard 100% Plant Protein**\\nRank: 2\\n* Strengths: Global brand reputation, clean blend of pea, brown rice, and sacha inchi proteins, full amino acid profile, smooth texture.\\n* Weaknesses: Some users may notice grittiness or an earthy aftertaste, especially in unflavored options.\\n* Recommended for: Those looking for a well-balanced and effective plant-based protein with a trusted brand.\\n\\n**3. Body & Fit Vegan Perfection Protein**\\nRank: 3\\n* Strengths: Good value, clean blend of pea and brown rice proteins, detailed amino acid profile, pleasant taste.\\n* Weaknesses: Some users may notice sandiness or chalkiness in texture.\\n* Recommended for: Those seeking a solid vegan protein at an affordable price with a favorable taste.\\n\\n**4. Myprotein Vegan Protein Blend**\\nRank: 4\\n* Strengths: Popular and accessible option, peat-based blend of pea, brown rice, and hemp proteins, full amino acid profile, versatile in mixing.\\n* Weaknesses: Mixed reviews on taste (both positive and negative), potential grittiness or earthy aftertaste.\\n* Recommended for: Those looking for a convenient plant-based protein powder that can be blended into smoothies.\\n\\n**5. Bulk Vegan Protein Powder**\\nRank: 5\\n* Strengths: Solid, clean formulation primarily pea isolate and brown rice protein, transparent ingredients, competitive amino acid profile.\\n* Weaknesses: Similar taste issues as Myprotein (grainy texture or earthy flavour), may be seen as a utilitarian choice rather than a taste-focused option.\\n* Recommended for: Those seeking a functional vegan protein with balanced nutritional benefits over exceptional taste.\\n\\nOverall, the top-ranked products offer high-quality ingredients, transparent formulations, and pleasant tastes. Choose one that aligns with your priorities in regard to taste vs nutritional value.']\n"
     ]
    }
   ],
   "source": [
    "# So where are we?\n",
    "\n",
    "print(teammates)\n",
    "print(answers)"
   ]
  },
  {
   "cell_type": "code",
   "execution_count": 22,
   "metadata": {},
   "outputs": [
    {
     "name": "stdout",
     "output_type": "stream",
     "text": [
      "Teammate: gemini-2.0-flash\n",
      "\n",
      "This is an excellent and well-researched list of top vegan protein powders available in the Netherlands! You've clearly addressed all the key criteria for evaluation, including:\n",
      "\n",
      "*   **Brand Reputation and Transparency:** Focusing on brands known for quality and ethical sourcing.\n",
      "*   **Ingredient Quality:** Emphasizing protein source, avoiding protein spiking, and noting the presence of additives.\n",
      "*   **Amino Acid Profile:** Highlighting the importance of a complete amino acid profile, specifically EAA and Leucine content.\n",
      "*   **Sweeteners:** Identifying the type of sweeteners used.\n",
      "*   **Taste and Mixability:** Summarizing user feedback on taste, texture, and mixability.\n",
      "*   **Dutch Consumer Language:** Incorporating Dutch phrases like \"lekker van smaak,\" \"niet te zoet,\" etc., makes the information highly relevant to the target audience in the Netherlands.\n",
      "\n",
      "Here are some minor suggestions and observations to further improve the rankings and presentation:\n",
      "\n",
      "**Suggestions for Improvement:**\n",
      "\n",
      "*   **Price/Value Consideration (Implicit but could be explicit):** While quality and taste are paramount, price is often a significant factor. Consider explicitly mentioning the price range (e.g., €/kg) for each product and evaluating the value proposition. This could shift the rankings slightly.\n",
      "\n",
      "*   **Organic Certification:** If any of these powders are certified organic, explicitly mentioning it would be a plus for health-conscious consumers.\n",
      "\n",
      "*   **Source Transparency (Pea Protein):** While all mention pea protein, noting the country of origin for ingredients like pea protein can add value (e.g., \"sourced from European peas\"). Some consumers prefer European sources for environmental reasons.\n",
      "\n",
      "*   **Fiber Content:**  A small mention of fiber content might be useful to some consumers.\n",
      "\n",
      "*   **Mixability Details:** You touch on mixability. Perhaps expand on this slightly. Does it require a shaker ball, or can it be stirred easily into water/milk?\n",
      "\n",
      "**Specific Comments on Rankings:**\n",
      "\n",
      "*   **KPNI Physiq Nutrition Vegan Protein:** Your justification for the top rank is very strong. The focus on purity, transparency, and detailed amino acid profile is a clear differentiator.\n",
      "\n",
      "*   **Optimum Nutrition Gold Standard 100% Plant Protein:** A solid choice from a well-known brand. The combination of Pea, Brown Rice, and Sacha Inchi is beneficial.\n",
      "\n",
      "*   **Body & Fit Vegan Perfection Protein:** Excellent value proposition. The transparency and readily available amino acid profile on the Body & Fit website is a huge plus.\n",
      "\n",
      "*   **Myprotein Vegan Protein Blend & Bulk™ Vegan Protein Powder:** The \"mixed\" taste reviews are expected for many vegan protein blends. Highlighting their accessibility and price point is important.\n",
      "\n",
      "**Revised Ranking Considerations (Slight):**\n",
      "\n",
      "Based solely on the information provided, and assuming price is not a major factor, the rankings are accurate. However, if we were to consider a 'best value' ranking, Body & Fit might move up to #2 due to its balance of quality, transparency, and affordability.  If we were to strongly weigh the mixed user feedback from *texture* perspective, *Optimum Nutrition* *might* move into first place.\n",
      "\n",
      "**Overall:**\n",
      "\n",
      "This is a highly informative and useful guide to the best vegan protein powders in the Netherlands. The attention to detail, use of Dutch terminology, and clear justifications for each ranking make it a valuable resource for consumers. Great job!\n",
      "\n",
      "Teammate: llama-3.3-70b-versatile\n",
      "\n",
      "Based on the provided analysis, here's a concise overview of the top 5 vegan protein powders available in the Netherlands, along with their key features and customer feedback:\n",
      "\n",
      "1. **KPNI Physiq Nutrition Vegan Protein**:\n",
      "   - **Brand and Product**: KPNI Physiq Nutrition Vegan Protein\n",
      "   - **Key Features**: Uses 100% pure Pea Protein Isolate, detailed amino acid profile, clean ingredients.\n",
      "   - **Sweeteners**: Steviol Glycosides (Stevia), unflavored options with no sweeteners.\n",
      "   - **Taste**: Highly praised for natural and non-artificial taste, good mixability.\n",
      "\n",
      "2. **Optimum Nutrition Gold Standard 100% Plant Protein**:\n",
      "   - **Brand and Product**: Optimum Nutrition Gold Standard 100% Plant Protein\n",
      "   - **Key Features**: Blend of Pea, Brown Rice, and Sacha Inchi Proteins, no protein spiking, transparent amino acid profile.\n",
      "   - **Sweeteners**: Sucralose, Steviol Glycosides (Stevia).\n",
      "   - **Taste**: Smooth texture, well-balanced flavors, particularly positive reviews for chocolate and vanilla.\n",
      "\n",
      "3. **Body & Fit Vegan Perfection Protein**:\n",
      "   - **Brand and Product**: Body & Fit Vegan Perfection Protein\n",
      "   - **Key Features**: Blend of Pea Protein Isolate and Brown Rice Protein Concentrate, avoids protein spiking, comprehensive amino acid profile.\n",
      "   - **Sweeteners**: Sucralose, Steviol Glycosides (Stevia).\n",
      "   - **Taste**: Delicious taste, dissolves well, with some users noting a slight sandy or chalky texture.\n",
      "\n",
      "4. **Myprotein Vegan Protein Blend**:\n",
      "   - **Brand and Product**: Myprotein Vegan Protein Blend\n",
      "   - **Key Features**: Blend of Pea, Brown Rice, and Hemp Proteins, straightforward formulation, full amino acid profile provided.\n",
      "   - **Sweeteners**: Sucralose, Steviol Glycosides (Stevia), unflavored versions contain no sweeteners.\n",
      "   - **Taste**: Mixed reviews, with some flavors being delicious and others having a gritty texture or earthy aftertaste.\n",
      "\n",
      "5. **Bulk™ Vegan Protein Powder**:\n",
      "   - **Brand and Product**: Bulk™ Vegan Protein Powder\n",
      "   - **Key Features**: Clean formulation with Pea Protein Isolate and Brown Rice Protein, no proprietary blends, transparent amino acid profile.\n",
      "   - **Sweeteners**: Sucralose, Steviol Glycosides (Stevia), unflavored versions contain no sweeteners.\n",
      "   - **Taste**: Varied reviews, with some flavors being well-received and others described as grainy or having an earthy flavor.\n",
      "\n",
      "Each of these products offers a unique set of characteristics that may appeal to different consumers based on their preferences for taste, ingredient transparency, and nutritional content.\n",
      "Teammate: llama3.2\n",
      "\n",
      "Based on your comprehensive analysis of the top 5 best vegan protein powders available in the Netherlands, here is a summary of each product:\n",
      "\n",
      "**1. KPNI Physiq Nutrition Vegan Protein**\n",
      "Rank: 1\n",
      "* Strengths: High-quality pea protein isolate, highly detailed amino acid profile, transparent ingredients, natural and non-artificial taste.\n",
      "* Weaknesses: Limited sweetener options (Stevia).\n",
      "* Recommended for: Those seeking a premium vegan protein with transparent ingredients and excellent taste.\n",
      "\n",
      "**2. Optimum Nutrition Gold Standard 100% Plant Protein**\n",
      "Rank: 2\n",
      "* Strengths: Global brand reputation, clean blend of pea, brown rice, and sacha inchi proteins, full amino acid profile, smooth texture.\n",
      "* Weaknesses: Some users may notice grittiness or an earthy aftertaste, especially in unflavored options.\n",
      "* Recommended for: Those looking for a well-balanced and effective plant-based protein with a trusted brand.\n",
      "\n",
      "**3. Body & Fit Vegan Perfection Protein**\n",
      "Rank: 3\n",
      "* Strengths: Good value, clean blend of pea and brown rice proteins, detailed amino acid profile, pleasant taste.\n",
      "* Weaknesses: Some users may notice sandiness or chalkiness in texture.\n",
      "* Recommended for: Those seeking a solid vegan protein at an affordable price with a favorable taste.\n",
      "\n",
      "**4. Myprotein Vegan Protein Blend**\n",
      "Rank: 4\n",
      "* Strengths: Popular and accessible option, peat-based blend of pea, brown rice, and hemp proteins, full amino acid profile, versatile in mixing.\n",
      "* Weaknesses: Mixed reviews on taste (both positive and negative), potential grittiness or earthy aftertaste.\n",
      "* Recommended for: Those looking for a convenient plant-based protein powder that can be blended into smoothies.\n",
      "\n",
      "**5. Bulk Vegan Protein Powder**\n",
      "Rank: 5\n",
      "* Strengths: Solid, clean formulation primarily pea isolate and brown rice protein, transparent ingredients, competitive amino acid profile.\n",
      "* Weaknesses: Similar taste issues as Myprotein (grainy texture or earthy flavour), may be seen as a utilitarian choice rather than a taste-focused option.\n",
      "* Recommended for: Those seeking a functional vegan protein with balanced nutritional benefits over exceptional taste.\n",
      "\n",
      "Overall, the top-ranked products offer high-quality ingredients, transparent formulations, and pleasant tastes. Choose one that aligns with your priorities in regard to taste vs nutritional value.\n"
     ]
    }
   ],
   "source": [
    "# It's nice to know how to use \"zip\"\n",
    "for teammate, answer in zip(teammates, answers):\n",
    "    print(f\"Teammate: {teammate}\\n\\n{answer}\")"
   ]
  },
  {
   "cell_type": "code",
   "execution_count": 23,
   "metadata": {},
   "outputs": [],
   "source": [
    "# Let's bring this together - note the use of \"enumerate\"\n",
    "\n",
    "together = \"\"\n",
    "for index, answer in enumerate(answers):\n",
    "    together += f\"# Response from teammate {index+1}\\n\\n\"\n",
    "    together += answer + \"\\n\\n\""
   ]
  },
  {
   "cell_type": "code",
   "execution_count": 24,
   "metadata": {},
   "outputs": [
    {
     "name": "stdout",
     "output_type": "stream",
     "text": [
      "# Response from teammate 1\n",
      "\n",
      "This is an excellent and well-researched list of top vegan protein powders available in the Netherlands! You've clearly addressed all the key criteria for evaluation, including:\n",
      "\n",
      "*   **Brand Reputation and Transparency:** Focusing on brands known for quality and ethical sourcing.\n",
      "*   **Ingredient Quality:** Emphasizing protein source, avoiding protein spiking, and noting the presence of additives.\n",
      "*   **Amino Acid Profile:** Highlighting the importance of a complete amino acid profile, specifically EAA and Leucine content.\n",
      "*   **Sweeteners:** Identifying the type of sweeteners used.\n",
      "*   **Taste and Mixability:** Summarizing user feedback on taste, texture, and mixability.\n",
      "*   **Dutch Consumer Language:** Incorporating Dutch phrases like \"lekker van smaak,\" \"niet te zoet,\" etc., makes the information highly relevant to the target audience in the Netherlands.\n",
      "\n",
      "Here are some minor suggestions and observations to further improve the rankings and presentation:\n",
      "\n",
      "**Suggestions for Improvement:**\n",
      "\n",
      "*   **Price/Value Consideration (Implicit but could be explicit):** While quality and taste are paramount, price is often a significant factor. Consider explicitly mentioning the price range (e.g., €/kg) for each product and evaluating the value proposition. This could shift the rankings slightly.\n",
      "\n",
      "*   **Organic Certification:** If any of these powders are certified organic, explicitly mentioning it would be a plus for health-conscious consumers.\n",
      "\n",
      "*   **Source Transparency (Pea Protein):** While all mention pea protein, noting the country of origin for ingredients like pea protein can add value (e.g., \"sourced from European peas\"). Some consumers prefer European sources for environmental reasons.\n",
      "\n",
      "*   **Fiber Content:**  A small mention of fiber content might be useful to some consumers.\n",
      "\n",
      "*   **Mixability Details:** You touch on mixability. Perhaps expand on this slightly. Does it require a shaker ball, or can it be stirred easily into water/milk?\n",
      "\n",
      "**Specific Comments on Rankings:**\n",
      "\n",
      "*   **KPNI Physiq Nutrition Vegan Protein:** Your justification for the top rank is very strong. The focus on purity, transparency, and detailed amino acid profile is a clear differentiator.\n",
      "\n",
      "*   **Optimum Nutrition Gold Standard 100% Plant Protein:** A solid choice from a well-known brand. The combination of Pea, Brown Rice, and Sacha Inchi is beneficial.\n",
      "\n",
      "*   **Body & Fit Vegan Perfection Protein:** Excellent value proposition. The transparency and readily available amino acid profile on the Body & Fit website is a huge plus.\n",
      "\n",
      "*   **Myprotein Vegan Protein Blend & Bulk™ Vegan Protein Powder:** The \"mixed\" taste reviews are expected for many vegan protein blends. Highlighting their accessibility and price point is important.\n",
      "\n",
      "**Revised Ranking Considerations (Slight):**\n",
      "\n",
      "Based solely on the information provided, and assuming price is not a major factor, the rankings are accurate. However, if we were to consider a 'best value' ranking, Body & Fit might move up to #2 due to its balance of quality, transparency, and affordability.  If we were to strongly weigh the mixed user feedback from *texture* perspective, *Optimum Nutrition* *might* move into first place.\n",
      "\n",
      "**Overall:**\n",
      "\n",
      "This is a highly informative and useful guide to the best vegan protein powders in the Netherlands. The attention to detail, use of Dutch terminology, and clear justifications for each ranking make it a valuable resource for consumers. Great job!\n",
      "\n",
      "\n",
      "# Response from teammate 2\n",
      "\n",
      "Based on the provided analysis, here's a concise overview of the top 5 vegan protein powders available in the Netherlands, along with their key features and customer feedback:\n",
      "\n",
      "1. **KPNI Physiq Nutrition Vegan Protein**:\n",
      "   - **Brand and Product**: KPNI Physiq Nutrition Vegan Protein\n",
      "   - **Key Features**: Uses 100% pure Pea Protein Isolate, detailed amino acid profile, clean ingredients.\n",
      "   - **Sweeteners**: Steviol Glycosides (Stevia), unflavored options with no sweeteners.\n",
      "   - **Taste**: Highly praised for natural and non-artificial taste, good mixability.\n",
      "\n",
      "2. **Optimum Nutrition Gold Standard 100% Plant Protein**:\n",
      "   - **Brand and Product**: Optimum Nutrition Gold Standard 100% Plant Protein\n",
      "   - **Key Features**: Blend of Pea, Brown Rice, and Sacha Inchi Proteins, no protein spiking, transparent amino acid profile.\n",
      "   - **Sweeteners**: Sucralose, Steviol Glycosides (Stevia).\n",
      "   - **Taste**: Smooth texture, well-balanced flavors, particularly positive reviews for chocolate and vanilla.\n",
      "\n",
      "3. **Body & Fit Vegan Perfection Protein**:\n",
      "   - **Brand and Product**: Body & Fit Vegan Perfection Protein\n",
      "   - **Key Features**: Blend of Pea Protein Isolate and Brown Rice Protein Concentrate, avoids protein spiking, comprehensive amino acid profile.\n",
      "   - **Sweeteners**: Sucralose, Steviol Glycosides (Stevia).\n",
      "   - **Taste**: Delicious taste, dissolves well, with some users noting a slight sandy or chalky texture.\n",
      "\n",
      "4. **Myprotein Vegan Protein Blend**:\n",
      "   - **Brand and Product**: Myprotein Vegan Protein Blend\n",
      "   - **Key Features**: Blend of Pea, Brown Rice, and Hemp Proteins, straightforward formulation, full amino acid profile provided.\n",
      "   - **Sweeteners**: Sucralose, Steviol Glycosides (Stevia), unflavored versions contain no sweeteners.\n",
      "   - **Taste**: Mixed reviews, with some flavors being delicious and others having a gritty texture or earthy aftertaste.\n",
      "\n",
      "5. **Bulk™ Vegan Protein Powder**:\n",
      "   - **Brand and Product**: Bulk™ Vegan Protein Powder\n",
      "   - **Key Features**: Clean formulation with Pea Protein Isolate and Brown Rice Protein, no proprietary blends, transparent amino acid profile.\n",
      "   - **Sweeteners**: Sucralose, Steviol Glycosides (Stevia), unflavored versions contain no sweeteners.\n",
      "   - **Taste**: Varied reviews, with some flavors being well-received and others described as grainy or having an earthy flavor.\n",
      "\n",
      "Each of these products offers a unique set of characteristics that may appeal to different consumers based on their preferences for taste, ingredient transparency, and nutritional content.\n",
      "\n",
      "# Response from teammate 3\n",
      "\n",
      "Based on your comprehensive analysis of the top 5 best vegan protein powders available in the Netherlands, here is a summary of each product:\n",
      "\n",
      "**1. KPNI Physiq Nutrition Vegan Protein**\n",
      "Rank: 1\n",
      "* Strengths: High-quality pea protein isolate, highly detailed amino acid profile, transparent ingredients, natural and non-artificial taste.\n",
      "* Weaknesses: Limited sweetener options (Stevia).\n",
      "* Recommended for: Those seeking a premium vegan protein with transparent ingredients and excellent taste.\n",
      "\n",
      "**2. Optimum Nutrition Gold Standard 100% Plant Protein**\n",
      "Rank: 2\n",
      "* Strengths: Global brand reputation, clean blend of pea, brown rice, and sacha inchi proteins, full amino acid profile, smooth texture.\n",
      "* Weaknesses: Some users may notice grittiness or an earthy aftertaste, especially in unflavored options.\n",
      "* Recommended for: Those looking for a well-balanced and effective plant-based protein with a trusted brand.\n",
      "\n",
      "**3. Body & Fit Vegan Perfection Protein**\n",
      "Rank: 3\n",
      "* Strengths: Good value, clean blend of pea and brown rice proteins, detailed amino acid profile, pleasant taste.\n",
      "* Weaknesses: Some users may notice sandiness or chalkiness in texture.\n",
      "* Recommended for: Those seeking a solid vegan protein at an affordable price with a favorable taste.\n",
      "\n",
      "**4. Myprotein Vegan Protein Blend**\n",
      "Rank: 4\n",
      "* Strengths: Popular and accessible option, peat-based blend of pea, brown rice, and hemp proteins, full amino acid profile, versatile in mixing.\n",
      "* Weaknesses: Mixed reviews on taste (both positive and negative), potential grittiness or earthy aftertaste.\n",
      "* Recommended for: Those looking for a convenient plant-based protein powder that can be blended into smoothies.\n",
      "\n",
      "**5. Bulk Vegan Protein Powder**\n",
      "Rank: 5\n",
      "* Strengths: Solid, clean formulation primarily pea isolate and brown rice protein, transparent ingredients, competitive amino acid profile.\n",
      "* Weaknesses: Similar taste issues as Myprotein (grainy texture or earthy flavour), may be seen as a utilitarian choice rather than a taste-focused option.\n",
      "* Recommended for: Those seeking a functional vegan protein with balanced nutritional benefits over exceptional taste.\n",
      "\n",
      "Overall, the top-ranked products offer high-quality ingredients, transparent formulations, and pleasant tastes. Choose one that aligns with your priorities in regard to taste vs nutritional value.\n",
      "\n",
      "\n"
     ]
    }
   ],
   "source": [
    "print(together)"
   ]
  },
  {
   "cell_type": "code",
   "execution_count": 25,
   "metadata": {},
   "outputs": [],
   "source": [
    "# The `question` variable would hold the content of the `request` from Step 1.\n",
    "# The `teammates` variable would be a list of the responses from the other LLMs.\n",
    "\n",
    "# This `formatter` prompt would then be sent to your final synthesizer LLM.\n",
    "formatter = f\"\"\"You are a discerning Health and Nutrition expert creating a definitive consumer guide. You have received {len(teammates)} 'Top 5' lists from different AI assistants based on the following detailed request:\n",
    "\n",
    "---\n",
    "**Original Request:**\n",
    "\"{question}\"\n",
    "---\n",
    "\n",
    "Your task is to synthesize these lists into a single, master \"Top 5 Vegan Proteins in the Netherlands\" report. You must critically evaluate the provided information, resolve any conflicts, and create a final ranking based on a holistic view.\n",
    "\n",
    "**Your synthesis and ranking logic must follow these rules:**\n",
    "1.  **Taste is a priority:** Products with consistently poor taste reviews (e.g., described as 'bad', 'undrinkable', 'cardboard') must be ranked lower or disqualified, even if their nutritional profile is excellent. Highlight products praised for their good taste.\n",
    "2.  **Low sugar scores higher:** Products with fewer or no artificial sweeteners are superior. A product sweetened only with stevia is better than one with sucralose and acesulfame-K. Unsweetened products should be noted as a top choice for health-conscious consumers.\n",
    "3.  **Evidence over claims:** Base your ranking on the evidence provided by the assistants (ingredient lists, review summaries). Note any consensus between the assistants, as this indicates a stronger recommendation.\n",
    "\n",
    "**Required Report Structure:**\n",
    "1.  **Title:** \"The Definitive Guide: Top 5 Vegan Proteins in the Netherlands\".\n",
    "2.  **Introduction:** Briefly explain the methodology, mentioning that the ranking is based on protein quality, low sugar, and real-world taste reviews.\n",
    "3.  **The Top 5 Ranking:** Present the final, synthesized list from 1 to 5. For each product:\n",
    "    - **Rank, Brand, and Product Name.**\n",
    "    - **Synthesized Verdict:** A summary paragraph explaining its final rank. This must include:\n",
    "        - **Protein Quality:** A note on its ingredients and amino acid profile.\n",
    "        - **Sweetener Profile:** A comment on its sweetener content and why that's good or bad.\n",
    "        - **Taste Consensus:** The final verdict on its taste based on the review analysis. (e.g., \"While nutritionally sound, it ranks lower due to consistent complaints about its chalky taste, as noted by Assistants 1 and 3.\")\n",
    "4.  **Honorable Mentions / Products to Avoid:** Briefly list any products that appeared in the lists but didn't make the final cut, and state why (e.g., \"Product X was disqualified due to multiple artificial sweeteners and poor taste reviews.\").\n",
    "\"\"\""
   ]
  },
  {
   "cell_type": "code",
   "execution_count": 26,
   "metadata": {},
   "outputs": [
    {
     "name": "stdout",
     "output_type": "stream",
     "text": [
      "You are a discerning Health and Nutrition expert creating a definitive consumer guide. You have received 3 'Top 5' lists from different AI assistants based on the following detailed request:\n",
      "\n",
      "---\n",
      "**Original Request:**\n",
      "\"Here are the Top 5 best vegan protein powders available for purchase in the Netherlands, based on a comprehensive analysis of the specified criteria:\n",
      "\n",
      "---\n",
      "\n",
      "**1. Rank: 1**\n",
      "*   **Brand Name & Product Name:** KPNI Physiq Nutrition Vegan Protein\n",
      "*   **Justification:** KPNI is renowned for its commitment to quality and transparency. This product uses 100% pure Pea Protein Isolate, ensuring no 'protein spiking' or proprietary blends. It provides a highly detailed and transparent amino acid profile, including precise EAA and Leucine content, which are excellent for muscle synthesis. Their focus on clean ingredients aligns perfectly with high protein quality.\n",
      "*   **Listed Sweeteners:** Steviol Glycosides (Stevia). Some unflavoured options are available with no sweeteners.\n",
      "*   **Taste Review Summary:** Highly praised for its natural and non-artificial taste. Users frequently describe it as \"lekker van smaak\" (delicious taste) and \"niet te zoet\" (not too sweet), appreciating the absence of a chemical aftertaste. Mixability is generally good, with fewer complaints about grittiness compared to many other vegan options. Many reviews highlight it as the \"beste vegan eiwitshake\" (best vegan protein shake) they've tried due to its pleasant flavour and texture.\n",
      "\n",
      "---\n",
      "\n",
      "**2. Rank: 2**\n",
      "*   **Brand Name & Product Name:** Optimum Nutrition Gold Standard 100% Plant Protein\n",
      "*   **Justification:** Optimum Nutrition is a globally trusted brand, and their plant protein upholds this reputation. It's a clean blend of Pea Protein, Brown Rice Protein, and Sacha Inchi Protein, with no protein spiking. The brand consistently provides a full and transparent amino acid profile, showcasing a balanced and effective EAA and Leucine content for a plant-based option.\n",
      "*   **Listed Sweeteners:** Sucralose, Steviol Glycosides (Stevia).\n",
      "*   **Taste Review Summary:** Generally receives very positive feedback for a vegan protein. Many consumers note its smooth texture and find it \"lekkerder dan veel andere vegan eiwitten\" (tastier than many other vegan proteins). Flavours like chocolate and vanilla are particularly well-received, often described as well-balanced and not overly \"earthy.\" Users appreciate that it \"lost goed op, geen klonten\" (dissolves well, no clumps), making it an enjoyable shake.\n",
      "\n",
      "---\n",
      "\n",
      "**3. Rank: 3**\n",
      "*   **Brand Name & Product Name:** Body & Fit Vegan Perfection Protein\n",
      "*   **Justification:** Body & Fit's own brand offers excellent value and quality. This protein is a clean blend of Pea Protein Isolate and Brown Rice Protein Concentrate, explicitly avoiding protein spiking. The product page on Body & Fit's website provides a comprehensive amino acid profile, allowing consumers to verify EAA and Leucine content, which is robust for a plant-based blend.\n",
      "*   **Listed Sweeteners:** Sucralose, Steviol Glycosides (Stevia).\n",
      "*   **Taste Review Summary:** Consistently well-regarded by Body & Fit customers. Reviews often state it has a \"heerlijke smaak\" (delicious taste) and \"lost goed op\" (dissolves well). While some users might notice a slight \"zanderige\" (sandy) or \"krijtachtige\" (chalky) texture, these comments are less frequent than with some other brands. The chocolate and vanilla flavours are popular and often praised for being pleasant and not overpowering.\n",
      "\n",
      "---\n",
      "\n",
      "**4. Rank: 4**\n",
      "*   **Brand Name & Product Name:** Myprotein Vegan Protein Blend\n",
      "*   **Justification:** Myprotein's Vegan Protein Blend is a popular and accessible choice. It features a straightforward blend of Pea Protein Isolate, Brown Rice Protein, and Hemp Protein, with no indication of protein spiking. Myprotein typically provides a full amino acid profile on its product pages, allowing for a clear understanding of the EAA and Leucine levels.\n",
      "*   **Listed Sweeteners:** Sucralose, Steviol Glycosides (Stevia). Unflavoured versions contain no sweeteners.\n",
      "*   **Taste Review Summary:** Taste reviews are generally mixed to positive. While many users find specific flavours (e.g., Chocolate Smooth, Vanilla) \"lekker\" (delicious) and appreciate that the taste is \"niet chemisch\" (not chemical), common complaints mention a \"gritty texture\" or a distinct \"earthy aftertaste,\" particularly with unflavoured or some fruitier options. It’s often considered good for mixing into smoothies rather than consuming with just water.\n",
      "\n",
      "---\n",
      "\n",
      "**5. Rank: 5**\n",
      "*   **Brand Name & Product Name:** Bulk™ Vegan Protein Powder\n",
      "*   **Justification:** Bulk (formerly Bulk Powders) offers a solid vegan protein option with a clean formulation primarily consisting of Pea Protein Isolate and Brown Rice Protein. There are no proprietary blends or signs of protein spiking. Bulk provides a clear amino acid profile on their website, ensuring transparency regarding EAA and Leucine content, which is competitive for a plant-based protein blend.\n",
      "*   **Listed Sweeteners:** Sucralose, Steviol Glycosides (Stevia). Unflavoured versions contain no sweeteners.\n",
      "*   **Taste Review Summary:** Similar to Myprotein, taste reviews are varied. Some flavours receive positive feedback for being \"smaakt top\" (tastes great) and mixing relatively well. However, like many plant-based proteins, it can be described as \"wat korrelig\" (a bit grainy) or having a noticeable \"aardse\" (earthy) flavour, especially for those new to vegan protein. It's often seen as a functional choice where taste is secondary to nutritional benefits for some users.\"\n",
      "---\n",
      "\n",
      "Your task is to synthesize these lists into a single, master \"Top 5 Vegan Proteins in the Netherlands\" report. You must critically evaluate the provided information, resolve any conflicts, and create a final ranking based on a holistic view.\n",
      "\n",
      "**Your synthesis and ranking logic must follow these rules:**\n",
      "1.  **Taste is a priority:** Products with consistently poor taste reviews (e.g., described as 'bad', 'undrinkable', 'cardboard') must be ranked lower or disqualified, even if their nutritional profile is excellent. Highlight products praised for their good taste.\n",
      "2.  **Low sugar scores higher:** Products with fewer or no artificial sweeteners are superior. A product sweetened only with stevia is better than one with sucralose and acesulfame-K. Unsweetened products should be noted as a top choice for health-conscious consumers.\n",
      "3.  **Evidence over claims:** Base your ranking on the evidence provided by the assistants (ingredient lists, review summaries). Note any consensus between the assistants, as this indicates a stronger recommendation.\n",
      "\n",
      "**Required Report Structure:**\n",
      "1.  **Title:** \"The Definitive Guide: Top 5 Vegan Proteins in the Netherlands\".\n",
      "2.  **Introduction:** Briefly explain the methodology, mentioning that the ranking is based on protein quality, low sugar, and real-world taste reviews.\n",
      "3.  **The Top 5 Ranking:** Present the final, synthesized list from 1 to 5. For each product:\n",
      "    - **Rank, Brand, and Product Name.**\n",
      "    - **Synthesized Verdict:** A summary paragraph explaining its final rank. This must include:\n",
      "        - **Protein Quality:** A note on its ingredients and amino acid profile.\n",
      "        - **Sweetener Profile:** A comment on its sweetener content and why that's good or bad.\n",
      "        - **Taste Consensus:** The final verdict on its taste based on the review analysis. (e.g., \"While nutritionally sound, it ranks lower due to consistent complaints about its chalky taste, as noted by Assistants 1 and 3.\")\n",
      "4.  **Honorable Mentions / Products to Avoid:** Briefly list any products that appeared in the lists but didn't make the final cut, and state why (e.g., \"Product X was disqualified due to multiple artificial sweeteners and poor taste reviews.\").\n",
      "\n"
     ]
    }
   ],
   "source": [
    "print(formatter)"
   ]
  },
  {
   "cell_type": "code",
   "execution_count": 27,
   "metadata": {},
   "outputs": [],
   "source": [
    "formatter_messages = [{\"role\": \"user\", \"content\": formatter}]"
   ]
  },
  {
   "cell_type": "code",
   "execution_count": 28,
   "metadata": {},
   "outputs": [
    {
     "data": {
      "text/markdown": [
       "## The Definitive Guide: Top 5 Vegan Proteins in the Netherlands\n",
       "\n",
       "As a discerning Health and Nutrition expert, I've meticulously evaluated the top vegan protein powders available in the Netherlands. This definitive guide re-ranks products based on a stringent methodology prioritizing **superior taste**, **minimal or no artificial sweeteners**, and **uncompromised protein quality** backed by transparent ingredient and amino acid profiles. Every recommendation herein is based on thorough analysis of reported ingredients, consumer taste reviews, and nutritional transparency.\n",
       "\n",
       "---\n",
       "\n",
       "### The Top 5 Ranking:\n",
       "\n",
       "**1. Rank: 1**\n",
       "*   **Brand Name & Product Name:** KPNI Physiq Nutrition Vegan Protein\n",
       "*   **Synthesized Verdict:** KPNI Physiq Nutrition secures the top spot as the benchmark for vegan protein. Its commitment to 100% pure Pea Protein Isolate, coupled with a highly detailed and transparent amino acid profile, ensures exceptional protein quality without any protein spiking. Crucially, its sweetener profile is exemplary, relying solely on Steviol Glycosides (Stevia) and offering unsweetened options, aligning perfectly with a low-sugar, health-conscious approach. Consumer feedback overwhelmingly praises its natural, non-artificial taste, describing it as \"delicious\" and \"not too sweet\" with an absence of chemical aftertaste and excellent mixability. This product consistently stands out for delivering on both taste and nutritional integrity.\n",
       "\n",
       "**2. Rank: 2**\n",
       "*   **Brand Name & Product Name:** Optimum Nutrition Gold Standard 100% Plant Protein\n",
       "*   **Synthesized Verdict:** Optimum Nutrition's plant-based offering earns a strong second place due to its global reputation for quality and its well-balanced blend of Pea, Brown Rice, and Sacha Inchi proteins. It provides a transparent amino acid profile, ensuring robust EAA and Leucine content. While it includes Sucralose alongside Steviol Glycosides, its exceptional taste performance largely offsets this minor drawback for many consumers. Reviews consistently highlight its smooth texture and find it \"tastier than many other vegan proteins,\" with well-balanced, non-earthy flavours that dissolve without clumps. It's a highly enjoyable and effective option.\n",
       "\n",
       "**3. Rank: 3**\n",
       "*   **Brand Name & Product Name:** Body & Fit Vegan Perfection Protein\n",
       "*   **Synthesized Verdict:** Body & Fit's own-brand vegan protein offers a compelling blend of quality and value. It features a clean formulation of Pea Protein Isolate and Brown Rice Protein Concentrate, providing a comprehensive amino acid profile. Like Optimum Nutrition, it utilizes both Sucralose and Steviol Glycosides as sweeteners. The taste consensus is generally positive, with many describing it as \"delicious\" and appreciating its good mixability. While some reviews mention a \"sandy\" or \"chalky\" texture, these comments are less frequent than with other brands, indicating a generally palatable experience that keeps it firmly in the top tier.\n",
       "\n",
       "**4. Rank: 4**\n",
       "*   **Brand Name & Product Name:** Myprotein Vegan Protein Blend\n",
       "*   **Synthesized Verdict:** Myprotein's Vegan Protein Blend offers a popular and accessible choice with a solid protein blend of Pea, Brown Rice, and Hemp. It provides a clear amino acid profile and importantly, offers unsweetened versions for the most health-conscious consumers, though its flavoured options contain both Sucralose and Steviol Glycosides. Its ranking is primarily influenced by the *mixed* nature of its taste reviews. While specific flavours are appreciated as \"delicious\" and \"not chemical,\" common complaints about \"gritty texture\" and a distinct \"earthy aftertaste\" mean it may not be ideal for standalone consumption with water, often requiring mixing into smoothies. This compromise in direct taste experience places it lower than its peers.\n",
       "\n",
       "**5. Rank: 5**\n",
       "*   **Brand Name & Product Name:** Bulk™ Vegan Protein Powder\n",
       "*   **Synthesized Verdict:** Bulk (formerly Bulk Powders) offers a functional vegan protein primarily consisting of Pea Protein Isolate and Brown Rice Protein, with a transparent amino acid profile. Similar to Myprotein, its flavoured variants include Sucralose and Steviol Glycosides, and unsweetened options are available. Its position at the fifth rank is largely due to its varied taste reception and common texture complaints. While some flavours are praised, many reviews describe it as \"a bit grainy\" or having a noticeable \"earthy\" flavour. The explicit mention that it's often seen as a \"functional choice where taste is secondary\" directly conflicts with our ranking's high priority on taste, placing it as a good nutritional option, but one that may require a compromise on palate pleasure for some users.\n",
       "\n",
       "---\n",
       "\n",
       "### Honorable Mentions / Products to Avoid:\n",
       "\n",
       "While all five products in the provided analysis demonstrated sufficient quality to make our definitive \"Top 5\" list, it's crucial to highlight the distinguishing factors. No products were outright disqualified, but Myprotein Vegan Protein Blend and Bulk™ Vegan Protein Powder were borderline for inclusion. Their respective positions at 4 and 5 are a direct consequence of their more \"mixed\" or \"functional-first\" taste profiles, which often come with common complaints about grittiness or earthy aftertastes. For consumers prioritizing an enjoyable taste experience above all else, these might require experimentation with flavour options or mixing into smoothies, whereas KPNI, Optimum Nutrition, and Body & Fit generally offer a smoother, more palatable stand-alone shake experience."
      ],
      "text/plain": [
       "<IPython.core.display.Markdown object>"
      ]
     },
     "metadata": {},
     "output_type": "display_data"
    }
   ],
   "source": [
    "openai = OpenAI(api_key=google_api_key, base_url=\"https://generativelanguage.googleapis.com/v1beta/openai/\")\n",
    "response = openai.chat.completions.create(\n",
    "    model=\"gemini-2.5-flash\",\n",
    "    messages=formatter_messages,\n",
    ")\n",
    "results = response.choices[0].message.content\n",
    "display(Markdown(results))"
   ]
  },
  {
   "cell_type": "code",
   "execution_count": null,
   "metadata": {},
   "outputs": [],
   "source": []
  }
 ],
 "metadata": {
  "kernelspec": {
   "display_name": ".venv",
   "language": "python",
   "name": "python3"
  },
  "language_info": {
   "codemirror_mode": {
    "name": "ipython",
    "version": 3
   },
   "file_extension": ".py",
   "mimetype": "text/x-python",
   "name": "python",
   "nbconvert_exporter": "python",
   "pygments_lexer": "ipython3",
   "version": "3.12.10"
  }
 },
 "nbformat": 4,
 "nbformat_minor": 2
}
