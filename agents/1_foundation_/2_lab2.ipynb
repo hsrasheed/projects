{
 "cells": [
  {
   "cell_type": "markdown",
   "metadata": {},
   "source": [
    "## Welcome to the Second Lab - Week 1, Day 3\n",
    "\n",
    "Today we will work with lots of models! This is a way to get comfortable with APIs."
   ]
  },
  {
   "cell_type": "markdown",
   "metadata": {},
   "source": [
    "<table style=\"margin: 0; text-align: left; width:100%\">\n",
    "    <tr>\n",
    "        <td style=\"width: 150px; height: 150px; vertical-align: middle;\">\n",
    "            <img src=\"../assets/stop.png\" width=\"150\" height=\"150\" style=\"display: block;\" />\n",
    "        </td>\n",
    "        <td>\n",
    "            <h2 style=\"color:#ff7800;\">Important point - please read</h2>\n",
    "            <span style=\"color:#ff7800;\">The way I collaborate with you may be different to other courses you've taken. I prefer not to type code while you watch. Rather, I execute Jupyter Labs, like this, and give you an intuition for what's going on. My suggestion is that you carefully execute this yourself, <b>after</b> watching the lecture. Add print statements to understand what's going on, and then come up with your own variations.<br/><br/>If you have time, I'd love it if you submit a PR for changes in the community_contributions folder - instructions in the resources. Also, if you have a Github account, use this to showcase your variations. Not only is this essential practice, but it demonstrates your skills to others, including perhaps future clients or employers...\n",
    "            </span>\n",
    "        </td>\n",
    "    </tr>\n",
    "</table>"
   ]
  },
  {
   "cell_type": "code",
   "execution_count": 1,
   "metadata": {},
   "outputs": [],
   "source": [
    "# Start with imports - ask ChatGPT to explain any package that you don't know\n",
    "\n",
    "import os\n",
    "import json\n",
    "from dotenv import load_dotenv\n",
    "from openai import OpenAI\n",
    "from anthropic import Anthropic\n",
    "from IPython.display import Markdown, display"
   ]
  },
  {
   "cell_type": "code",
   "execution_count": 14,
   "metadata": {},
   "outputs": [
    {
     "data": {
      "text/plain": [
       "True"
      ]
     },
     "execution_count": 14,
     "metadata": {},
     "output_type": "execute_result"
    }
   ],
   "source": [
    "# Always remember to do this!\n",
    "load_dotenv(override=True)"
   ]
  },
  {
   "cell_type": "code",
   "execution_count": 16,
   "metadata": {},
   "outputs": [
    {
     "name": "stdout",
     "output_type": "stream",
     "text": [
      "OpenAI API Key exists and begins sk-proj-\n",
      "Anthropic API Key exists and begins sk-ant-\n",
      "Google API Key exists and begins AI\n",
      "DeepSeek API Key exists and begins sk-\n",
      "Groq API Key exists and begins gsk_\n"
     ]
    }
   ],
   "source": [
    "# Print the key prefixes to help with any debugging\n",
    "\n",
    "openai_api_key = os.getenv('OPENAI_API_KEY')\n",
    "anthropic_api_key = os.getenv('ANTHROPIC_API_KEY')\n",
    "google_api_key = os.getenv('GOOGLE_API_KEY')\n",
    "deepseek_api_key = os.getenv('DEEPSEEK_API_KEY')\n",
    "groq_api_key = os.getenv('GROQ_API_KEY')\n",
    "\n",
    "if openai_api_key:\n",
    "    print(f\"OpenAI API Key exists and begins {openai_api_key[:8]}\")\n",
    "else:\n",
    "    print(\"OpenAI API Key not set\")\n",
    "    \n",
    "if anthropic_api_key:\n",
    "    print(f\"Anthropic API Key exists and begins {anthropic_api_key[:7]}\")\n",
    "else:\n",
    "    print(\"Anthropic API Key not set (and this is optional)\")\n",
    "\n",
    "if google_api_key:\n",
    "    print(f\"Google API Key exists and begins {google_api_key[:2]}\")\n",
    "else:\n",
    "    print(\"Google API Key not set (and this is optional)\")\n",
    "\n",
    "if deepseek_api_key:\n",
    "    print(f\"DeepSeek API Key exists and begins {deepseek_api_key[:3]}\")\n",
    "else:\n",
    "    print(\"DeepSeek API Key not set (and this is optional)\")\n",
    "\n",
    "if groq_api_key:\n",
    "    print(f\"Groq API Key exists and begins {groq_api_key[:4]}\")\n",
    "else:\n",
    "    print(\"Groq API Key not set (and this is optional)\")"
   ]
  },
  {
   "cell_type": "code",
   "execution_count": 4,
   "metadata": {},
   "outputs": [],
   "source": [
    "#request = \"Please come up with a challenging, nuanced question that I can ask a number of LLMs to evaluate their intelligence. \"\n",
    "#request += \"Answer only with the question, no explanation.\"\n",
    "request = \"Please come up with a challenging, technical skilling topic that I can ask a number of LLMs to evaluate their intelligence. \"\n",
    "request += \"Answer only with the topic, no explanation.\"\n",
    "messages = [{\"role\": \"user\", \"content\": request}]"
   ]
  },
  {
   "cell_type": "code",
   "execution_count": 5,
   "metadata": {},
   "outputs": [
    {
     "data": {
      "text/plain": [
       "[{'role': 'user',\n",
       "  'content': 'Please come up with a challenging, technical skilling topic that I can ask a number of LLMs to evaluate their intelligence. Answer only with the topic, no explanation.'}]"
      ]
     },
     "execution_count": 5,
     "metadata": {},
     "output_type": "execute_result"
    }
   ],
   "source": [
    "messages"
   ]
  },
  {
   "cell_type": "code",
   "execution_count": 8,
   "metadata": {},
   "outputs": [
    {
     "name": "stdout",
     "output_type": "stream",
     "text": [
      "Compiler Design: Optimizing Register Allocation using Graph Coloring\n",
      "\n"
     ]
    }
   ],
   "source": [
    "#openai = OpenAI()\n",
    "#response = openai.chat.completions.create(\n",
    "#    model=\"gpt-4o-mini\",\n",
    "#    messages=messages,\n",
    "#)\n",
    "#question = response.choices[0].message.content\n",
    "#print(question)\n",
    "\n",
    "\n",
    "gemini = OpenAI(api_key=google_api_key, base_url=\"https://generativelanguage.googleapis.com/v1beta/openai/\")\n",
    "model_name = \"gemini-2.0-flash\"\n",
    "\n",
    "response = gemini.chat.completions.create(model=model_name, messages=messages)\n",
    "topic = response.choices[0].message.content\n",
    "print(topic)\n",
    "\n"
   ]
  },
  {
   "cell_type": "code",
   "execution_count": 9,
   "metadata": {},
   "outputs": [],
   "source": [
    "competitors = []\n",
    "answers = []\n",
    "messages = [{\"role\": \"user\", \"content\": topic}]"
   ]
  },
  {
   "cell_type": "code",
   "execution_count": 10,
   "metadata": {},
   "outputs": [
    {
     "data": {
      "text/markdown": [
       "Register allocation is a critical phase in compiler design that determines how a compiler assigns variables to a limited number of CPU registers. Efficiently allocating registers can greatly enhance the performance of compiled code. An effective method for register allocation that has gained prominence is graph coloring, which is often referred to as \"graph coloring register allocation.\"\n",
       "\n",
       "### Overview of Graph Coloring Register Allocation\n",
       "\n",
       "1. **Basic Concept**:\n",
       "   - The program's variables are represented as nodes in a graph.\n",
       "   - An edge between two nodes indicates that the corresponding variables are \"live\" at the same time (i.e., they are in use during the same execution points).\n",
       "   - The goal is to color the graph such that no two adjacent nodes share the same color. Each color represents a distinct register.\n",
       "\n",
       "2. **Live Variable Analysis**:\n",
       "   - Before constructing the interference graph, the compiler performs live variable analysis to determine the set of variables that are alive (in use) at each program point.\n",
       "\n",
       "3. **Building the Interference Graph**:\n",
       "   - Nodes are created for each variable.\n",
       "   - Edges are added between nodes for every pair of variables that are simultaneously live.\n",
       "   - The resulting graph will reflect the interference of variables based on their lifetimes.\n",
       "\n",
       "4. **Graph Coloring**:\n",
       "   - The problem of assigning registers can be reduced to coloring the interference graph.\n",
       "   - If the graph can be colored with 'k' colors (where 'k' is the number of available registers), then the corresponding variables can be assigned to those registers.\n",
       "\n",
       "5. **Algorithm**:\n",
       "   - **Greedy Coloring**: A common approach to color the graph is using a greedy algorithm which selects a node, assigns the lowest color number available, and proceeds to the next node. However, this does not guarantee optimal register usage.\n",
       "   - **Chaitin's Algorithm**: A more sophisticated algorithm uses spill code and includes techniques for estimating costs, allowing it to handle cases where the graph is too complex to be colored with the available registers.\n",
       "\n",
       "6. **Spilling**:\n",
       "   - If it’s impossible to color the graph with the given number of registers, some variables must be \"spilled\" to memory. This means that instead of keeping them in registers, their values are stored in memory, incurring additional load/store operations.\n",
       "\n",
       "7. **Optimizations**:\n",
       "   - Several optimizations can be applied in conjunction with graph coloring:\n",
       "     - **Coalescing**: Merge nodes in the interference graph when possible to reduce the number of colors needed.\n",
       "     - **Live Range Splitting**: Split the lifetime of a variable into disjoint segments to reduce interference.\n",
       "     - **Priority-based Coloring**: Give priority to nodes with higher degrees or those that are used more frequently.\n",
       "\n",
       "### Implementation Steps\n",
       "\n",
       "1. **Build the Control Flow Graph (CFG)**:\n",
       "   - Analyze the program structure to capture how control flows between different parts of the program.\n",
       "\n",
       "2. **Perform Live Variable Analysis**:\n",
       "   - Compute live variable information to determine which variables are alive at each point in the program.\n",
       "\n",
       "3. **Construct the Interference Graph**:\n",
       "   - Create nodes for each variable, add edges based on live intervals.\n",
       "\n",
       "4. **Apply Graph Coloring Algorithm**:\n",
       "   - Use a graph coloring algorithm to assign registers to variables.\n",
       "\n",
       "5. **Handle Spills (if necessary)**:\n",
       "   - If spills are needed, insert the necessary load and store instructions, and update the interference graph accordingly.\n",
       "\n",
       "6. **Generate the Final Assembly Code**:\n",
       "   - Output the assembly code with the chosen register allocation, taking into account any spill code that was generated.\n",
       "\n",
       "### Conclusion\n",
       "\n",
       "Graph coloring is an effective method for register allocation that can significantly improve runtime performance. By analyzing variable lifetimes and building an interference graph, compilers can efficiently utilize CPU registers. Implementing advanced techniques further enhances the effectiveness of register allocation, making it a fundamental aspect of compiler optimization."
      ],
      "text/plain": [
       "<IPython.core.display.Markdown object>"
      ]
     },
     "metadata": {},
     "output_type": "display_data"
    }
   ],
   "source": [
    "# The API we know well\n",
    "\n",
    "model_name = \"gpt-4o-mini\"\n",
    "\n",
    "response = openai.chat.completions.create(model=model_name, messages=messages)\n",
    "answer = response.choices[0].message.content\n",
    "\n",
    "display(Markdown(answer))\n",
    "competitors.append(model_name)\n",
    "answers.append(answer)"
   ]
  },
  {
   "cell_type": "code",
   "execution_count": 11,
   "metadata": {},
   "outputs": [
    {
     "data": {
      "text/markdown": [
       "# Optimizing Register Allocation using Graph Coloring in Compiler Design\n",
       "\n",
       "Register allocation is a critical phase in compiler optimization where variables in a program are assigned to a limited number of CPU registers. Graph coloring provides an elegant approach to solving this problem efficiently.\n",
       "\n",
       "## Core Concepts\n",
       "\n",
       "### 1. Interference Graph Construction\n",
       "- **Nodes**: Each variable or temporary value in the program\n",
       "- **Edges**: Connect variables that are \"live\" simultaneously (interfere with each other)\n",
       "- Variables connected by an edge cannot be assigned to the same register\n",
       "\n",
       "### 2. Graph Coloring Algorithm\n",
       "- Each color represents a physical register\n",
       "- Goal: Color the graph with at most k colors (where k is the number of available registers)\n",
       "- If successful, each variable gets assigned to a register\n",
       "- If not possible, some variables must be \"spilled\" to memory\n",
       "\n",
       "## Implementation Steps\n",
       "\n",
       "1. **Build the Interference Graph**:\n",
       "   - Perform liveness analysis to determine variable lifetimes\n",
       "   - Create edges between variables with overlapping live ranges\n",
       "\n",
       "2. **Apply Graph Coloring**:\n",
       "   - Use heuristics like Chaitin's algorithm:\n",
       "     - Find nodes with fewer than k neighbors\n",
       "     - Temporarily remove these nodes and place them on a stack\n",
       "     - When graph cannot be simplified further, begin coloring by popping nodes\n",
       "     - Assign colors (registers) to nodes, avoiding colors of adjacent nodes\n",
       "\n",
       "3. **Handle Spilling**:\n",
       "   - If graph cannot be colored with k colors, identify variables to spill\n",
       "   - Typically choose variables with high spill cost metrics\n",
       "   - Generate code to store/load these variables from memory\n",
       "\n",
       "## Optimization Techniques\n",
       "\n",
       "- **Coalescing**: Merge non-interfering variables with copy instructions\n",
       "- **Priority-based Allocation**: Assign registers based on variable usage frequency\n",
       "- **Live Range Splitting**: Break variable lifetimes into smaller ranges\n",
       "- **Pre-coloring**: Reserve specific registers for special purposes\n",
       "\n",
       "## Challenges and Considerations\n",
       "\n",
       "- NP-completeness of optimal graph coloring\n",
       "- Balancing compile-time efficiency with quality of allocation\n",
       "- Architecture-specific register constraints\n",
       "- Handling function calls and ABI requirements\n",
       "\n",
       "Register allocation via graph coloring elegantly balances the theoretical aspects of compiler design with practical performance optimization for real-world programs."
      ],
      "text/plain": [
       "<IPython.core.display.Markdown object>"
      ]
     },
     "metadata": {},
     "output_type": "display_data"
    }
   ],
   "source": [
    "# Anthropic has a slightly different API, and Max Tokens is required\n",
    "\n",
    "model_name = \"claude-3-7-sonnet-latest\"\n",
    "\n",
    "claude = Anthropic()\n",
    "response = claude.messages.create(model=model_name, messages=messages, max_tokens=1000)\n",
    "answer = response.content[0].text\n",
    "\n",
    "display(Markdown(answer))\n",
    "competitors.append(model_name)\n",
    "answers.append(answer)"
   ]
  },
  {
   "cell_type": "code",
   "execution_count": 12,
   "metadata": {},
   "outputs": [
    {
     "data": {
      "text/markdown": [
       "## Optimizing Register Allocation using Graph Coloring in Compiler Design\n",
       "\n",
       "Register allocation is a critical phase in compiler optimization, directly impacting code performance. By efficiently assigning program variables to a limited set of CPU registers, we can minimize slow memory accesses and improve execution speed.  Graph coloring is a well-established and effective technique for solving this optimization problem.\n",
       "\n",
       "Here's a breakdown of how graph coloring is used in register allocation, along with considerations for optimization:\n",
       "\n",
       "**1. Problem Formulation: The Interference Graph**\n",
       "\n",
       "The core idea is to represent the register allocation problem as a graph coloring problem. This is achieved by creating an **interference graph**:\n",
       "\n",
       "* **Nodes:** Each node in the graph represents a *live range* of a variable. A live range is the sequence of instructions where a variable's value is potentially used after it's been defined.\n",
       "\n",
       "* **Edges:** An edge connects two nodes (live ranges) if they *interfere*. Two live ranges interfere if they are simultaneously live at some point during program execution.  This means they cannot be assigned the same register.\n",
       "\n",
       "**Example:**\n",
       "\n",
       "Consider the following simplified code snippet:\n",
       "\n",
       "```\n",
       "1.  a = b + c\n",
       "2.  d = a * e\n",
       "3.  f = a + 1\n",
       "4.  g = d - f\n",
       "5.  return g\n",
       "```\n",
       "\n",
       "We can determine the live ranges of the variables:\n",
       "\n",
       "* `a`: lines 1-3\n",
       "* `b`: line 1\n",
       "* `c`: line 1\n",
       "* `d`: lines 2-4\n",
       "* `e`: line 2\n",
       "* `f`: lines 3-4\n",
       "* `g`: lines 4-5\n",
       "\n",
       "Now, we construct the interference graph:\n",
       "\n",
       "* Nodes: `a`, `b`, `c`, `d`, `e`, `f`, `g`\n",
       "* Edges:\n",
       "    * `a` interferes with `d` (both alive at line 2)\n",
       "    * `a` interferes with `f` (both alive at line 3)\n",
       "    * `d` interferes with `f` (both alive at line 4)\n",
       "    * `b` interferes with `c` (both alive at line 1 - but depending on the context this can be removed with copy propagation/coalescing).\n",
       "    * And so on, for all interfering pairs.\n",
       "\n",
       "**2. Graph Coloring and Register Assignment**\n",
       "\n",
       "Once the interference graph is built, the register allocation problem becomes: \"Can we color the graph using *K* colors (where *K* is the number of available registers) such that no two adjacent nodes have the same color?\"\n",
       "\n",
       "* **Colors as Registers:**  Each color represents a different register.\n",
       "\n",
       "* **Valid Coloring:** A valid coloring guarantees that no two interfering live ranges are assigned to the same register.\n",
       "\n",
       "**3. Algorithm: Chaitin's Algorithm (Simplified)**\n",
       "\n",
       "Chaitin's algorithm is a common, albeit simplified, approach for graph coloring register allocation.\n",
       "\n",
       "1. **Build the Interference Graph:** As described above.\n",
       "\n",
       "2. **Simplify (Coalesce and Remove Low-Degree Nodes):**\n",
       "   * **Coalesce:**  If two nodes representing `x` and `y` are connected by a \"move\" instruction (`x = y`) and do *not* interfere with each other's neighbors, they can be coalesced into a single node. This reduces the size of the graph and improves the chance of a successful coloring. Coalescing avoids generating move instructions between registers.\n",
       "\n",
       "   * **Remove Low-Degree Nodes:** Find a node with fewer than *K* neighbors.  Removing this node from the graph *guarantees* that it can be colored after the rest of the graph is colored. Push this node onto a stack. Repeat until no more nodes can be removed.\n",
       "\n",
       "3. **Spill:** If the simplification step results in a graph where every node has a degree of *K* or more, we need to \"spill\" a variable to memory. This means storing a variable's value in memory when it's not actively being used in a register, and loading it back when needed.  Choose a node to spill (see optimization below).  Remove the spilled node and its edges from the graph. Go back to step 2 (Simplify).\n",
       "\n",
       "4. **Select (Color):**\n",
       "   * Pop nodes from the stack created in step 2.\n",
       "   * For each node, assign it a color (register) that is different from the colors of all its neighbors in the *original* interference graph.  This is guaranteed to be possible because of the simplification step.\n",
       "\n",
       "**Example (Continuing from before, with 3 registers K=3):**\n",
       "\n",
       "1. **Interference graph is built.**\n",
       "\n",
       "2. **Simplify:**\n",
       "   * Let's say 'g' only interferes with 'd' and 'f'. Since K=3 and 'g' has degree 2, it can be removed and put on a stack: `[g]`\n",
       "   * Let's say 'b' only interferes with 'a' and 'c'. It can be removed: `[g, b]`\n",
       "   * Let's say 'e' only interferes with 'a' and 'd'. It can be removed: `[g, b, e]`\n",
       "   * Now 'a', 'c', 'd', and 'f' all interfere with each other heavily. We potentially have to spill. Let's arbitrarily choose to spill 'f'.\n",
       "\n",
       "3. **Spill 'f':** Remove 'f' from the graph and go back to step 2.\n",
       "\n",
       "4. **Simplify (again):** Now with 'f' removed, it's easier to simplify. Let's say 'a', 'c', 'd' are all low degree and can be removed in that order: `[g, b, e, a, c, d]`\n",
       "\n",
       "5. **Select:**\n",
       "   * Pop 'd': Give it color 1 (register 1).\n",
       "   * Pop 'c': Give it color 2 (register 2).\n",
       "   * Pop 'a': Give it color 3 (register 3).\n",
       "   * Pop 'e': Give it a color different from 'a' and 'd', so let's say color 2 (register 2).\n",
       "   * Pop 'b': Give it a color different from 'a' and 'c', so let's say color 1 (register 1).\n",
       "   * Pop 'g': Give it a color different from 'd' and the spilled node 'f'. Since 'f' is spilled it is no longer in a register so there are no conflicts. Give it color 3 (register 3).\n",
       "\n",
       "**Optimizations and Considerations:**\n",
       "\n",
       "* **Spill Cost:** Choosing which variable to spill is crucial. A good spill cost estimation considers:\n",
       "    * **Frequency of use:** Spill variables that are used less often.\n",
       "    * **Loop depth:** Spill variables used outside loops before variables used inside loops.\n",
       "    * **Cost of load/store instructions:** The number of load and store instructions introduced by spilling.\n",
       "\n",
       "* **Coalescing:** Aggressive coalescing reduces the number of move instructions.  However, overly aggressive coalescing can increase the degree of nodes, making the graph harder to color and potentially leading to more spilling.  The Briggs's criterion and George's criterion are used to determine when coalescing is safe.\n",
       "\n",
       "* **Pre-coloring:** Some variables might be pre-assigned to specific registers (e.g., function arguments passed in specific registers). The interference graph must be updated to reflect these pre-colored nodes.\n",
       "\n",
       "* **Live Range Splitting:** A variable's live range can be split into multiple smaller live ranges to reduce interference. This can be done by inserting \"copy\" instructions. Splitting helps reduce the degree of nodes and improve colorability, at the expense of extra copy instructions.\n",
       "\n",
       "* **Priority-based Coloring:** Instead of arbitrarily picking a node for spilling, use a priority function that incorporates spill cost, coalescing opportunities, and live range size.\n",
       "\n",
       "* **Register Preferences:** Consider the underlying architecture's register conventions. Some registers might be preferred for certain operations.  Factor these preferences into the coloring algorithm.\n",
       "\n",
       "* **Iterated Register Coalescing (IRC):** This is a more sophisticated algorithm that iteratively performs coalescing, graph coloring, and spilling until a valid register assignment is found.\n",
       "\n",
       "* **Register Renaming (Static Single Assignment - SSA):** SSA form simplifies live range analysis and makes it easier to construct the interference graph. SSA also facilitates optimization techniques like copy propagation and dead code elimination, which indirectly improve register allocation.\n",
       "\n",
       "**Advantages of Graph Coloring:**\n",
       "\n",
       "* **Effective:**  It's a proven technique that generally produces good register allocations.\n",
       "* **Principled:**  Based on a solid theoretical foundation.\n",
       "\n",
       "**Disadvantages:**\n",
       "\n",
       "* **NP-Complete:** The graph coloring problem itself is NP-complete.  Heuristics (like Chaitin's algorithm) provide approximate solutions.\n",
       "* **Complexity:** Building the interference graph and implementing the coloring algorithm can be complex, especially with aggressive optimizations.\n",
       "\n",
       "**In summary, graph coloring provides a powerful and flexible framework for register allocation. By carefully constructing the interference graph, employing intelligent spill cost estimation, and considering architectural constraints, compilers can leverage graph coloring to generate highly optimized machine code.**\n"
      ],
      "text/plain": [
       "<IPython.core.display.Markdown object>"
      ]
     },
     "metadata": {},
     "output_type": "display_data"
    }
   ],
   "source": [
    "gemini = OpenAI(api_key=google_api_key, base_url=\"https://generativelanguage.googleapis.com/v1beta/openai/\")\n",
    "model_name = \"gemini-2.0-flash\"\n",
    "\n",
    "response = gemini.chat.completions.create(model=model_name, messages=messages)\n",
    "answer = response.choices[0].message.content\n",
    "\n",
    "display(Markdown(answer))\n",
    "competitors.append(model_name)\n",
    "answers.append(answer)"
   ]
  },
  {
   "cell_type": "code",
   "execution_count": 17,
   "metadata": {},
   "outputs": [
    {
     "data": {
      "text/markdown": [
       "# Optimizing Register Allocation using Graph Coloring in Compiler Design\n",
       "\n",
       "## Introduction to Register Allocation\n",
       "Register allocation is a crucial phase in compiler design that maps program variables to a limited number of CPU registers. The goal is to minimize memory accesses by keeping frequently used variables in registers while respecting hardware constraints.\n",
       "\n",
       "## Graph Coloring Approach\n",
       "Graph coloring is a powerful technique for register allocation where:\n",
       "1. Variables become nodes in a graph\n",
       "2. Edges represent conflicts (when two variables must be live simultaneously)\n",
       "3. Colors represent physical registers\n",
       "\n",
       "### Key Steps:\n",
       "\n",
       "1. **Live Variable Analysis**:\n",
       "   - Determine the live ranges of each variable\n",
       "   - Identify when variables interfere (overlap in live ranges)\n",
       "\n",
       "2. **Interference Graph Construction**:\n",
       "   - Create a graph where nodes represent variables\n",
       "   - Add edges between variables that interfere\n",
       "\n",
       "3. **Graph Coloring**:\n",
       "   - Assign \"colors\" (registers) to nodes such that no adjacent nodes share the same color\n",
       "   - The chromatic number (minimum colors needed) determines if allocation is possible\n",
       "\n",
       "4. **Spill Handling**:\n",
       "   - If the graph requires more colors than available registers, select variables to \"spill\" to memory\n",
       "   - Reconstruct the graph and repeat the process\n",
       "\n",
       "## Optimizations in Graph Coloring Register Allocation\n",
       "\n",
       "### 1. Coalescing\n",
       "- Merge non-interfering nodes that are connected by move instructions\n",
       "- Reduces register pressure by eliminating unnecessary copies\n",
       "\n",
       "### 2. Conservative Coalescing\n",
       "- Only coalesce when it doesn't increase the degree of the merged node beyond k-1 (where k is number of registers)\n",
       "\n",
       "### 3. Spill Heuristics\n",
       "- Prioritize spilling variables with:\n",
       "  - Low usage frequency\n",
       "  - High spill cost (based on loop nesting)\n",
       "  - High degree in the interference graph\n",
       "\n",
       "### 4. Register Packing\n",
       "- Allocate multiple small variables to different parts of the same register when possible\n",
       "\n",
       "### 5. Precolored Nodes\n",
       "- Handle architecture-specific constraints (e.g., some instructions require specific registers)\n",
       "\n",
       "## Implementation Considerations\n",
       "\n",
       "```pseudo\n",
       "function AllocateRegisters(program):\n",
       "    // Build control flow graph\n",
       "    cfg = BuildCFG(program)\n",
       "    \n",
       "    // Perform liveness analysis\n",
       "    live_ranges = ComputeLiveRanges(cfg)\n",
       "    \n",
       "    // Build interference graph\n",
       "    ig = BuildInterferenceGraph(live_ranges)\n",
       "    \n",
       "    // Simplify graph\n",
       "    while ig not empty:\n",
       "        node = SelectNodeToRemove(ig)\n",
       "        stack.push(node)\n",
       "        ig.remove(node)\n",
       "    \n",
       "    // Attempt coloring\n",
       "    while stack not empty:\n",
       "        node = stack.pop()\n",
       "        available = all colors\n",
       "        for neighbor in node.neighbors:\n",
       "            if neighbor.color in available:\n",
       "                available.remove(neighbor.color)\n",
       "        if available is empty:\n",
       "            // Spill required\n",
       "            SpillVariable(node)\n",
       "        else:\n",
       "            node.color = available.first\n",
       "    \n",
       "    return coloring\n",
       "```\n",
       "\n",
       "## Challenges and Solutions\n",
       "\n",
       "1. **NP-Hard Problem**:\n",
       "   - Graph coloring is NP-complete\n",
       "   - Solution: Use heuristic approaches like Chaitin's algorithm\n",
       "\n",
       "2. **Architectural Constraints**:\n",
       "   - Some architectures have special register requirements\n",
       "   - Solution: Use precolored nodes for fixed registers\n",
       "\n",
       "3. **Performance vs. Optimality**:\n",
       "   - Optimal allocation may be too expensive\n",
       "   - Solution: Trade optimality for compilation speed with good heuristics\n",
       "\n",
       "## Modern Extensions\n",
       "\n",
       "1. **SSA-based Allocation**:\n",
       "   - Leverage Static Single Assignment form for more precise liveness information\n",
       "\n",
       "2. **Linear Scan Allocation**:\n",
       "   - Faster alternative for JIT compilers with slightly less optimal results\n",
       "\n",
       "3. **Multi-class Registers**:\n",
       "   - Handle different register types (float, vector, general purpose)\n",
       "\n",
       "Graph coloring remains one of the most effective approaches to register allocation in optimizing compilers, providing a good balance between allocation quality and computational complexity."
      ],
      "text/plain": [
       "<IPython.core.display.Markdown object>"
      ]
     },
     "metadata": {},
     "output_type": "display_data"
    }
   ],
   "source": [
    "deepseek = OpenAI(api_key=deepseek_api_key, base_url=\"https://api.deepseek.com/v1\")\n",
    "model_name = \"deepseek-chat\"\n",
    "\n",
    "response = deepseek.chat.completions.create(model=model_name, messages=messages)\n",
    "answer = response.choices[0].message.content\n",
    "\n",
    "display(Markdown(answer))\n",
    "competitors.append(model_name)\n",
    "answers.append(answer)"
   ]
  },
  {
   "cell_type": "code",
   "execution_count": 18,
   "metadata": {},
   "outputs": [
    {
     "data": {
      "text/markdown": [
       "**Introduction**\n",
       "===============\n",
       "\n",
       "Compiler design is a crucial aspect of computer science, and one of its key components is register allocation. Register allocation is the process of assigning registers to variables in a program to minimize the number of memory accesses. Optimizing register allocation using graph coloring is a popular technique in compiler design. In this section, we will explore the concept of graph coloring and its application in register allocation.\n",
       "\n",
       "**Graph Coloring**\n",
       "----------------\n",
       "\n",
       "Graph coloring is a technique used in graph theory to assign colors to nodes in a graph such that no two adjacent nodes have the same color. In the context of register allocation, nodes represent variables, and edges represent conflicts between variables (i.e., variables that are live at the same time). The goal of graph coloring is to assign a color (register) to each node such that no two nodes with the same color are adjacent.\n",
       "\n",
       "**Register Allocation using Graph Coloring**\n",
       "------------------------------------------\n",
       "\n",
       "The process of register allocation using graph coloring involves the following steps:\n",
       "\n",
       "1. **Build the Interference Graph**: Construct a graph where nodes represent variables, and edges represent conflicts between variables.\n",
       "2. **Simplify the Graph**: Remove nodes with a degree less than the number of available registers.\n",
       "3. **Spill Nodes**: Remove nodes that are not yet simplified until the graph is simplified.\n",
       "4. **Color the Graph**: Assign a color (register) to each node using a coloring algorithm.\n",
       "5. **Assign Registers**: Assign the assigned color (register) to the corresponding variable in the program.\n",
       "\n",
       "**Coloring Algorithms**\n",
       "----------------------\n",
       "\n",
       "Several coloring algorithms can be used for register allocation, including:\n",
       "\n",
       "1. **Chaitin's Algorithm**: A simple, iterative algorithm that assigns colors to nodes based on their degree.\n",
       "2. **Briggs' Algorithm**: A more complex algorithm that uses a combination of graph simplification and coloring.\n",
       "3. **George's Algorithm**: A hybrid algorithm that combines Chaitin's and Briggs' algorithms.\n",
       "\n",
       "**Example Use Case**\n",
       "--------------------\n",
       "\n",
       "Consider a program with the following variables: `a`, `b`, `c`, `d`, `e`, and `f`. The interference graph for these variables is shown below:\n",
       "\n",
       "| Node | Edges |\n",
       "| --- | --- |\n",
       "| a   | b, c |\n",
       "| b   | a, d |\n",
       "| c   | a, e |\n",
       "| d   | b, f |\n",
       "| e   | c, f |\n",
       "| f   | d, e |\n",
       "\n",
       "Assuming we have three available registers, we can use graph coloring to assign registers to these variables. We start by simplifying the graph, removing nodes with a degree less than three. We then spill nodes until the graph is simplified, and finally, we color the graph using a coloring algorithm.\n",
       "\n",
       "| Node | Color |\n",
       "| --- | --- |\n",
       "| a   | R1   |\n",
       "| b   | R2   |\n",
       "| c   | R3   |\n",
       "| d   | R1   |\n",
       "| e   | R2   |\n",
       "| f   | R3   |\n",
       "\n",
       "In this example, we assigned registers `R1`, `R2`, and `R3` to the variables `a`, `b`, and `c`, respectively. The remaining variables were spilled to memory.\n",
       "\n",
       "**Code Implementation**\n",
       "---------------------\n",
       "\n",
       "Here's an example implementation of a simple graph coloring algorithm in Python:\n",
       "```python\n",
       "import networkx as nx\n",
       "\n",
       "def color_graph(graph, num_registers):\n",
       "    # Simplify the graph\n",
       "    simplified_graph = graph.copy()\n",
       "    for node in graph.nodes():\n",
       "        if graph.degree(node) < num_registers:\n",
       "            simplified_graph.remove_node(node)\n",
       "\n",
       "    # Color the graph\n",
       "    colors = {}\n",
       "    for node in simplified_graph.nodes():\n",
       "        available_colors = list(range(num_registers))\n",
       "        for neighbor in simplified_graph.neighbors(node):\n",
       "            if neighbor in colors:\n",
       "                available_colors.remove(colors[neighbor])\n",
       "        colors[node] = available_colors[0]\n",
       "\n",
       "    return colors\n",
       "\n",
       "# Create an interference graph\n",
       "graph = nx.Graph()\n",
       "graph.add_nodes_from(['a', 'b', 'c', 'd', 'e', 'f'])\n",
       "graph.add_edges_from([('a', 'b'), ('a', 'c'), ('b', 'd'), ('c', 'e'), ('d', 'f'), ('e', 'f')])\n",
       "\n",
       "# Color the graph\n",
       "num_registers = 3\n",
       "colors = color_graph(graph, num_registers)\n",
       "print(colors)\n",
       "```\n",
       "This implementation uses the NetworkX library to create and manipulate the interference graph. The `color_graph` function simplifies the graph and assigns colors to nodes using a simple iterative algorithm.\n",
       "\n",
       "**Conclusion**\n",
       "==============\n",
       "\n",
       "Graph coloring is a powerful technique for optimizing register allocation in compiler design. By representing variables as nodes and conflicts as edges, we can use graph coloring algorithms to assign registers to variables efficiently. The example implementation provided demonstrates a simple graph coloring algorithm, but more complex algorithms like Chaitin's and Briggs' can be used for better performance."
      ],
      "text/plain": [
       "<IPython.core.display.Markdown object>"
      ]
     },
     "metadata": {},
     "output_type": "display_data"
    }
   ],
   "source": [
    "groq = OpenAI(api_key=groq_api_key, base_url=\"https://api.groq.com/openai/v1\")\n",
    "model_name = \"llama-3.3-70b-versatile\"\n",
    "\n",
    "response = groq.chat.completions.create(model=model_name, messages=messages)\n",
    "answer = response.choices[0].message.content\n",
    "\n",
    "display(Markdown(answer))\n",
    "competitors.append(model_name)\n",
    "answers.append(answer)\n"
   ]
  },
  {
   "cell_type": "markdown",
   "metadata": {},
   "source": [
    "## For the next cell, we will use Ollama\n",
    "\n",
    "Ollama runs a local web service that gives an OpenAI compatible endpoint,  \n",
    "and runs models locally using high performance C++ code.\n",
    "\n",
    "If you don't have Ollama, install it here by visiting https://ollama.com then pressing Download and following the instructions.\n",
    "\n",
    "After it's installed, you should be able to visit here: http://localhost:11434 and see the message \"Ollama is running\"\n",
    "\n",
    "You might need to restart Cursor (and maybe reboot). Then open a Terminal (control+\\`) and run `ollama serve`\n",
    "\n",
    "Useful Ollama commands (run these in the terminal, or with an exclamation mark in this notebook):\n",
    "\n",
    "`ollama pull <model_name>` downloads a model locally  \n",
    "`ollama ls` lists all the models you've downloaded  \n",
    "`ollama rm <model_name>` deletes the specified model from your downloads"
   ]
  },
  {
   "cell_type": "markdown",
   "metadata": {},
   "source": [
    "<table style=\"margin: 0; text-align: left; width:100%\">\n",
    "    <tr>\n",
    "        <td style=\"width: 150px; height: 150px; vertical-align: middle;\">\n",
    "            <img src=\"../assets/stop.png\" width=\"150\" height=\"150\" style=\"display: block;\" />\n",
    "        </td>\n",
    "        <td>\n",
    "            <h2 style=\"color:#ff7800;\">Super important - ignore me at your peril!</h2>\n",
    "            <span style=\"color:#ff7800;\">The model called <b>llama3.3</b> is FAR too large for home computers - it's not intended for personal computing and will consume all your resources! Stick with the nicely sized <b>llama3.2</b> or <b>llama3.2:1b</b> and if you want larger, try llama3.1 or smaller variants of Qwen, Gemma, Phi or DeepSeek. See the <A href=\"https://ollama.com/models\">the Ollama models page</a> for a full list of models and sizes.\n",
    "            </span>\n",
    "        </td>\n",
    "    </tr>\n",
    "</table>"
   ]
  },
  {
   "cell_type": "code",
   "execution_count": 19,
   "metadata": {},
   "outputs": [
    {
     "name": "stderr",
     "output_type": "stream",
     "text": [
      "'ollama' is not recognized as an internal or external command,\n",
      "operable program or batch file.\n"
     ]
    }
   ],
   "source": [
    "!ollama serve"
   ]
  },
  {
   "cell_type": "code",
   "execution_count": 20,
   "metadata": {},
   "outputs": [
    {
     "name": "stderr",
     "output_type": "stream",
     "text": [
      "'ollama' is not recognized as an internal or external command,\n",
      "operable program or batch file.\n"
     ]
    }
   ],
   "source": [
    "!ollama pull llama3.2"
   ]
  },
  {
   "cell_type": "code",
   "execution_count": null,
   "metadata": {},
   "outputs": [],
   "source": [
    "ollama = OpenAI(base_url='http://localhost:11434/v1', api_key='ollama')\n",
    "model_name = \"llama3.2\"\n",
    "\n",
    "response = ollama.chat.completions.create(model=model_name, messages=messages)\n",
    "answer = response.choices[0].message.content\n",
    "\n",
    "display(Markdown(answer))\n",
    "competitors.append(model_name)\n",
    "answers.append(answer)"
   ]
  },
  {
   "cell_type": "code",
   "execution_count": null,
   "metadata": {},
   "outputs": [],
   "source": [
    "# So where are we?\n",
    "\n",
    "print(competitors)\n",
    "print(answers)\n"
   ]
  },
  {
   "cell_type": "code",
   "execution_count": null,
   "metadata": {},
   "outputs": [],
   "source": [
    "# It's nice to know how to use \"zip\"\n",
    "for competitor, answer in zip(competitors, answers):\n",
    "    print(f\"Competitor: {competitor}\\n\\n{answer}\")\n"
   ]
  },
  {
   "cell_type": "code",
   "execution_count": 20,
   "metadata": {},
   "outputs": [],
   "source": [
    "# Let's bring this together - note the use of \"enumerate\"\n",
    "\n",
    "together = \"\"\n",
    "for index, answer in enumerate(answers):\n",
    "    together += f\"# Response from competitor {index+1}\\n\\n\"\n",
    "    together += answer + \"\\n\\n\""
   ]
  },
  {
   "cell_type": "code",
   "execution_count": null,
   "metadata": {},
   "outputs": [],
   "source": [
    "print(together)"
   ]
  },
  {
   "cell_type": "code",
   "execution_count": 22,
   "metadata": {},
   "outputs": [],
   "source": [
    "judge = f\"\"\"You are judging a competition between {len(competitors)} competitors.\n",
    "Each model has been given this question:\n",
    "\n",
    "{question}\n",
    "\n",
    "Your job is to evaluate each response for clarity and strength of argument, and rank them in order of best to worst.\n",
    "Respond with JSON, and only JSON, with the following format:\n",
    "{{\"results\": [\"best competitor number\", \"second best competitor number\", \"third best competitor number\", ...]}}\n",
    "\n",
    "Here are the responses from each competitor:\n",
    "\n",
    "{together}\n",
    "\n",
    "Now respond with the JSON with the ranked order of the competitors, nothing else. Do not include markdown formatting or code blocks.\"\"\"\n"
   ]
  },
  {
   "cell_type": "code",
   "execution_count": null,
   "metadata": {},
   "outputs": [],
   "source": [
    "print(judge)"
   ]
  },
  {
   "cell_type": "code",
   "execution_count": 29,
   "metadata": {},
   "outputs": [],
   "source": [
    "judge_messages = [{\"role\": \"user\", \"content\": judge}]"
   ]
  },
  {
   "cell_type": "code",
   "execution_count": null,
   "metadata": {},
   "outputs": [],
   "source": [
    "# Judgement time!\n",
    "\n",
    "openai = OpenAI()\n",
    "response = openai.chat.completions.create(\n",
    "    model=\"o3-mini\",\n",
    "    messages=judge_messages,\n",
    ")\n",
    "results = response.choices[0].message.content\n",
    "print(results)\n"
   ]
  },
  {
   "cell_type": "code",
   "execution_count": null,
   "metadata": {},
   "outputs": [],
   "source": [
    "# OK let's turn this into results!\n",
    "\n",
    "results_dict = json.loads(results)\n",
    "ranks = results_dict[\"results\"]\n",
    "for index, result in enumerate(ranks):\n",
    "    competitor = competitors[int(result)-1]\n",
    "    print(f\"Rank {index+1}: {competitor}\")"
   ]
  },
  {
   "cell_type": "markdown",
   "metadata": {},
   "source": [
    "<table style=\"margin: 0; text-align: left; width:100%\">\n",
    "    <tr>\n",
    "        <td style=\"width: 150px; height: 150px; vertical-align: middle;\">\n",
    "            <img src=\"../assets/exercise.png\" width=\"150\" height=\"150\" style=\"display: block;\" />\n",
    "        </td>\n",
    "        <td>\n",
    "            <h2 style=\"color:#ff7800;\">Exercise</h2>\n",
    "            <span style=\"color:#ff7800;\">Which pattern(s) did this use? Try updating this to add another Agentic design pattern.\n",
    "            </span>\n",
    "        </td>\n",
    "    </tr>\n",
    "</table>"
   ]
  },
  {
   "cell_type": "markdown",
   "metadata": {},
   "source": [
    "<table style=\"margin: 0; text-align: left; width:100%\">\n",
    "    <tr>\n",
    "        <td style=\"width: 150px; height: 150px; vertical-align: middle;\">\n",
    "            <img src=\"../assets/business.png\" width=\"150\" height=\"150\" style=\"display: block;\" />\n",
    "        </td>\n",
    "        <td>\n",
    "            <h2 style=\"color:#00bfff;\">Commercial implications</h2>\n",
    "            <span style=\"color:#00bfff;\">These kinds of patterns - to send a task to multiple models, and evaluate results,\n",
    "            are common where you need to improve the quality of your LLM response. This approach can be universally applied\n",
    "            to business projects where accuracy is critical.\n",
    "            </span>\n",
    "        </td>\n",
    "    </tr>\n",
    "</table>"
   ]
  }
 ],
 "metadata": {
  "kernelspec": {
   "display_name": ".venv",
   "language": "python",
   "name": "python3"
  },
  "language_info": {
   "codemirror_mode": {
    "name": "ipython",
    "version": 3
   },
   "file_extension": ".py",
   "mimetype": "text/x-python",
   "name": "python",
   "nbconvert_exporter": "python",
   "pygments_lexer": "ipython3",
   "version": "3.12.11"
  }
 },
 "nbformat": 4,
 "nbformat_minor": 2
}
